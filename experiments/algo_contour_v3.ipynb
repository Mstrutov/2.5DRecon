{
 "cells": [
  {
   "cell_type": "code",
   "execution_count": 3,
   "outputs": [],
   "source": [
    "import cv2 as cv\n",
    "import numpy as np\n",
    "import matplotlib.pyplot as plt\n",
    "import experiments.algo_contour_stepper as cs\n",
    "\n",
    "\n",
    "# dataset_name = 'HD. Human Hair 25'\n",
    "\n",
    "input_texture_path = '../datasets/Human Hair/frame74.jpg'\n",
    "glob_threshold = 2"
   ],
   "metadata": {
    "collapsed": false,
    "pycharm": {
     "name": "#%%\n"
    }
   }
  },
  {
   "cell_type": "code",
   "execution_count": null,
   "outputs": [],
   "source": [
    "texture = cv.imread(input_texture_path, cv.IMREAD_COLOR)\n",
    "\n",
    "# preprocess the texture\n",
    "grayscale_texture = cv.cvtColor(texture, cv.COLOR_RGB2GRAY)\n",
    "plt.imshow(grayscale_texture, cmap='gray')"
   ],
   "metadata": {
    "collapsed": false,
    "pycharm": {
     "name": "#%%\n"
    }
   }
  },
  {
   "cell_type": "code",
   "execution_count": null,
   "outputs": [],
   "source": [
    "# get the black background mask in order to afterwards transform the black background to\n",
    "# be in the same cluster in Otsu's binarization as the bright one\n",
    "threshold, black_background_mask = cv.threshold(grayscale_texture, glob_threshold, 255, cv.THRESH_BINARY_INV)\n",
    "\n",
    "# find the brightest pixel - it will be used as a bright background value\n",
    "minVal, maxVal, minLoc, maxLoc = cv.minMaxLoc(grayscale_texture)\n",
    "\n",
    "# making sure that grayscaled_texture (<glob_threshold) + 255 * coeff < 255\n",
    "coeff = np.min([maxVal / 255, 1 - glob_threshold / 255])"
   ],
   "metadata": {
    "collapsed": false,
    "pycharm": {
     "name": "#%%\n"
    }
   }
  },
  {
   "cell_type": "code",
   "execution_count": null,
   "outputs": [],
   "source": [
    "# adding 255 * coeff to the black background to set it bright\n",
    "grayscale_texture = cv.addWeighted(grayscale_texture, 1, black_background_mask, coeff, 0)\n",
    "plt.imshow(grayscale_texture, cmap='gray')"
   ],
   "metadata": {
    "collapsed": false,
    "pycharm": {
     "name": "#%%\n"
    }
   }
  },
  {
   "cell_type": "code",
   "execution_count": null,
   "outputs": [],
   "source": [
    "# apply otsu's binarization to the texture\n",
    "th, mask = cv.threshold(grayscale_texture, 0, 255, cv.THRESH_BINARY_INV + cv.THRESH_OTSU)\n",
    "plt.imshow(mask, cmap='gray')\n",
    "\n",
    "# apply mask to the depthmap and save the result\n",
    "# masked_depth_map = cv.bitwise_and(depth_map, depth_map, mask=mask)\n",
    "# cv.imwrite(output_depthmap_path, masked_depth_map)"
   ],
   "metadata": {
    "collapsed": false,
    "pycharm": {
     "name": "#%%\n"
    }
   }
  },
  {
   "cell_type": "code",
   "execution_count": null,
   "outputs": [],
   "source": [
    "kernel = np.ones((5, 5), np.uint8)\n",
    "erosion = cv.erode(mask, kernel, iterations=6)\n",
    "plt.imshow(erosion, cmap='gray')"
   ],
   "metadata": {
    "collapsed": false,
    "pycharm": {
     "name": "#%%\n"
    }
   }
  },
  {
   "cell_type": "code",
   "execution_count": null,
   "outputs": [],
   "source": [
    "dilation = cv.dilate(erosion, kernel, iterations=6)\n",
    "plt.imshow(dilation, cmap='gray')\n",
    "mask = dilation"
   ],
   "metadata": {
    "collapsed": false,
    "pycharm": {
     "name": "#%%\n"
    }
   }
  },
  {
   "cell_type": "code",
   "execution_count": null,
   "outputs": [],
   "source": [
    "# also: cv2.Canny\n",
    "contour = np.zeros((grayscale_texture.shape[0], grayscale_texture.shape[1]), np.uint8)\n",
    "#black[:, :] = (55, 55, 55)\n",
    "# не очень понимаю, как это всё работает и почему приходится делать absdiff <- это старое, сейчас всёё понимаю!\n",
    "contours, hierarchy = cv.findContours(mask, cv.RETR_TREE, cv.CHAIN_APPROX_SIMPLE)\n",
    "plt.imshow(mask, cmap='gray')\n",
    "\n",
    "cv.drawContours(contour, contours, -1, (255, 255, 255), 1)"
   ],
   "metadata": {
    "collapsed": false,
    "pycharm": {
     "name": "#%%\n"
    }
   }
  },
  {
   "cell_type": "code",
   "execution_count": null,
   "outputs": [],
   "source": [
    "plt.imshow(contour, cmap='gray')"
   ],
   "metadata": {
    "collapsed": false,
    "pycharm": {
     "name": "#%%\n"
    }
   }
  },
  {
   "cell_type": "code",
   "execution_count": null,
   "outputs": [],
   "source": [
    "raw_contour = contours[0].reshape(-1, 2)\n",
    "contour_mass_centre = np.mean(np.array(contours[0]), axis=0).astype(int)"
   ],
   "metadata": {
    "collapsed": false,
    "pycharm": {
     "name": "#%%\n"
    }
   }
  },
  {
   "cell_type": "code",
   "source": [
    "raw_next_contour = np.array(cs.next_contour(grayscale_texture, raw_contour, contour_mass_centre))\n",
    "plt.plot(raw_next_contour[:, 0], raw_next_contour[:, 1], '.')"
   ],
   "metadata": {
    "collapsed": false,
    "pycharm": {
     "name": "#%%\n"
    }
   },
   "execution_count": null,
   "outputs": []
  },
  {
   "cell_type": "code",
   "execution_count": null,
   "outputs": [],
   "source": [
    "input_directory_path = f'../datasets/Human Hair/'\n",
    "glob_threshold = 2\n",
    "\n",
    "depthmap = np.zeros((grayscale_texture.shape[0], grayscale_texture.shape[1]), np.uint8)\n",
    "for i in range(54, 85, 2):\n",
    "    input_texture_path = input_directory_path + 'frame' + str(i) + '.jpg'\n",
    "    texture = cv.imread(input_texture_path, cv.IMREAD_COLOR)\n",
    "\n",
    "    # preprocess the texture\n",
    "    grayscale_texture = cv.cvtColor(texture, cv.COLOR_RGB2GRAY)\n",
    "    plt.imshow(grayscale_texture, cmap='gray')\n",
    "\n",
    "    raw_next_contour = np.array(cs.next_contour(grayscale_texture, raw_contour, contour_mass_centre))\n",
    "    for (point_x, point_y) in raw_next_contour:\n",
    "        depthmap[point_y, point_x] = (i - 54) * 8\n",
    "\n",
    "plt.imshow(depthmap, cmap='gray')"
   ],
   "metadata": {
    "collapsed": false,
    "pycharm": {
     "name": "#%%\n"
    }
   }
  },
  {
   "cell_type": "code",
   "execution_count": null,
   "outputs": [],
   "source": [
    "# cv.imwrite(r'..\\results\\depthmap.jpg', depthmap)\n",
    "\n",
    "\n"
   ],
   "metadata": {
    "collapsed": false,
    "pycharm": {
     "name": "#%%\n"
    }
   }
  }
 ],
 "metadata": {
  "kernelspec": {
   "display_name": "Python 3",
   "language": "python",
   "name": "python3"
  },
  "language_info": {
   "codemirror_mode": {
    "name": "ipython",
    "version": 2
   },
   "file_extension": ".py",
   "mimetype": "text/x-python",
   "name": "python",
   "nbconvert_exporter": "python",
   "pygments_lexer": "ipython2",
   "version": "2.7.6"
  }
 },
 "nbformat": 4,
 "nbformat_minor": 0
}