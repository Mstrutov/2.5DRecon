{
 "cells": [
  {
   "cell_type": "code",
   "execution_count": 3,
   "metadata": {
    "collapsed": true
   },
   "outputs": [],
   "source": [
    "import git.focus_stack_refinement.support_scripts as supp\n",
    "import os\n",
    "import codecs\n",
    "import json\n",
    "import re\n",
    "import numpy as np"
   ]
  },
  {
   "cell_type": "code",
   "execution_count": 4,
   "outputs": [
    {
     "name": "stdout",
     "output_type": "stream",
     "text": [
      "160x120_fast\n",
      "Bee Wings 1920x1080_super_slow\n",
      "160x120_fast\n",
      "Bee Worker Leg-Composite 1920x1080_super_slow\n",
      "160x120_fast\n",
      "Butterfly Wings Ocales 1920x1080_super_slow\n",
      "160x120_fast\n",
      "Earthworm 1920x1080_super_slow\n",
      "160x120_fast\n",
      "Honeybee Mouth Parts 1920x1080_super_slow\n",
      "160x120_fast\n",
      "Housefly Compound Eye 1920x1080_super_slow\n",
      "160x120_fast\n",
      "Housefly Mouth Parts 1920x1080_super_slow\n",
      "160x120_fast\n",
      "Mosquito Larva 1920x1080_super_slow\n",
      "160x120_fast\n",
      "Mosquito Mouth Parts 1920x1080_super_slow\n",
      "160x120_fast\n",
      "Mutation of drosophila - wingless form 1920x1080_super_slow\n",
      "160x120_fast\n",
      "Rabbit Lymph Node 1920x1080_super_slow\n"
     ]
    }
   ],
   "source": [
    "from git.focus_stack_refinement.focus_filtering.filter_image import filter_focused_images\n",
    "path_to_zip_files = 'datasets/VIDEOS-CARFULLY-EXTRACT/29.11.2020/'\n",
    "teng_parts_f_res = {}\n",
    "for dirpath, dirnames, filenames in os.walk(path_to_zip_files):\n",
    "    if len(filenames) != 0:\n",
    "        videos = list(filter(lambda x: (x[-3:] == 'mp4'), filenames))\n",
    "        for video in videos:\n",
    "            video_dir = dirpath + '/'\n",
    "            video_path = video_dir + video\n",
    "            video_name = video[0:-4]\n",
    "\n",
    "            if re.search(r'super_slow', video_name) is not None:\n",
    "                video_name = dirpath.split('/')[-1] + ' ' + video_name\n",
    "                if video_name not in teng_parts_f_res:\n",
    "                    stack = supp.get_frames_as_array(video_path)\n",
    "                    teng_parts_f_res[video_name] = supp.preprocess_parts(stack)\n",
    "\n",
    "\n",
    "            print(video_name)"
   ],
   "metadata": {
    "collapsed": false,
    "pycharm": {
     "name": "#%%\n"
    }
   }
  },
  {
   "cell_type": "code",
   "execution_count": 11,
   "outputs": [],
   "source": [
    "def convert(o):\n",
    "    if isinstance(o, np.int32): return int(o)\n",
    "    if isinstance(o, np.uint8): return int(o)\n",
    "    if isinstance(o, np.ndarray) : return list(o)\n",
    "    print(type(o))\n",
    "    raise TypeError\n",
    "\n",
    "with codecs.open('datasets/teng_parts_preprocessing.txt', 'w', encoding='utf-8') as results:\n",
    "    try:\n",
    "        results.writelines(json.dumps(teng_parts_f_res, default=convert))\n",
    "    except:\n",
    "        pass"
   ],
   "metadata": {
    "collapsed": false,
    "pycharm": {
     "name": "#%%\n"
    }
   }
  },
  {
   "cell_type": "code",
   "execution_count": null,
   "outputs": [],
   "source": [
    "\n"
   ],
   "metadata": {
    "collapsed": false,
    "pycharm": {
     "name": "#%%\n"
    }
   }
  }
 ],
 "metadata": {
  "kernelspec": {
   "display_name": "Python 3",
   "language": "python",
   "name": "python3"
  },
  "language_info": {
   "codemirror_mode": {
    "name": "ipython",
    "version": 2
   },
   "file_extension": ".py",
   "mimetype": "text/x-python",
   "name": "python",
   "nbconvert_exporter": "python",
   "pygments_lexer": "ipython2",
   "version": "2.7.6"
  }
 },
 "nbformat": 4,
 "nbformat_minor": 0
}