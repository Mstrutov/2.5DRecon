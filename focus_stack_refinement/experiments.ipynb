{
 "cells": [
  {
   "cell_type": "code",
   "execution_count": 2,
   "metadata": {
    "collapsed": true
   },
   "outputs": [],
   "source": [
    "import os\n",
    "import cv2 as cv\n",
    "import numpy as np\n",
    "import re\n",
    "import git.focus_stack_refinement.support_scripts as supp"
   ]
  },
  {
   "cell_type": "code",
   "execution_count": 6,
   "outputs": [],
   "source": [
    "dataset = 'human_hair_fast'\n",
    "dataset_format = 'mp4'\n",
    "# file_names = np.array(os.listdir('datasets/'))\n",
    "# mask = [re.match(r'.*\\.mp4', file_name) is not None for file_name in file_names]\n",
    "# videos = file_names[mask]\n",
    "#\n",
    "# for video in videos:\n",
    "#     video_name = re.sub(r'(.*)\\.mp4', r'\\1', video)\n",
    "#     extract_frames(f'../focus_stack_refinement/datasets/{video}', f'../focus_stack_refinement/datasets/{video_name}/')"
   ],
   "metadata": {
    "collapsed": false,
    "pycharm": {
     "name": "#%%\n"
    }
   }
  },
  {
   "cell_type": "code",
   "execution_count": 7,
   "outputs": [],
   "source": [
    "# assuming stack frame names are: 'frame\\d{1-3}.jpg', starting with 'frame0.jpg'\n",
    "focus_measures = ['LAPV', 'LAPM', 'TENG', 'VOLL4']"
   ],
   "metadata": {
    "collapsed": false,
    "pycharm": {
     "name": "#%%\n"
    }
   }
  },
  {
   "cell_type": "code",
   "execution_count": 49,
   "outputs": [
    {
     "name": "stdout",
     "output_type": "stream",
     "text": [
      "2020-10-25 20:22:25,498 : INFO : git.focus_stack_refinement.focus_filtering.filter_image : Filtering images...\n",
      "2020-10-25 20:22:25,541 : INFO : git.focus_stack_refinement.focus_filtering.measure_focus : TFP for frame 1/61\n",
      "2020-10-25 20:22:25,577 : INFO : git.focus_stack_refinement.focus_filtering.measure_focus : TFP for frame 2/61\n",
      "2020-10-25 20:22:25,609 : INFO : git.focus_stack_refinement.focus_filtering.measure_focus : TFP for frame 3/61\n",
      "2020-10-25 20:22:25,644 : INFO : git.focus_stack_refinement.focus_filtering.measure_focus : TFP for frame 4/61\n",
      "2020-10-25 20:22:25,676 : INFO : git.focus_stack_refinement.focus_filtering.measure_focus : TFP for frame 5/61\n",
      "2020-10-25 20:22:25,710 : INFO : git.focus_stack_refinement.focus_filtering.measure_focus : TFP for frame 6/61\n",
      "2020-10-25 20:22:25,741 : INFO : git.focus_stack_refinement.focus_filtering.measure_focus : TFP for frame 7/61\n",
      "2020-10-25 20:22:25,771 : INFO : git.focus_stack_refinement.focus_filtering.measure_focus : TFP for frame 8/61\n",
      "2020-10-25 20:22:25,801 : INFO : git.focus_stack_refinement.focus_filtering.measure_focus : TFP for frame 9/61\n",
      "2020-10-25 20:22:25,836 : INFO : git.focus_stack_refinement.focus_filtering.measure_focus : TFP for frame 10/61\n",
      "2020-10-25 20:22:25,869 : INFO : git.focus_stack_refinement.focus_filtering.measure_focus : TFP for frame 11/61\n",
      "2020-10-25 20:22:25,900 : INFO : git.focus_stack_refinement.focus_filtering.measure_focus : TFP for frame 12/61\n",
      "2020-10-25 20:22:25,931 : INFO : git.focus_stack_refinement.focus_filtering.measure_focus : TFP for frame 13/61\n",
      "2020-10-25 20:22:25,961 : INFO : git.focus_stack_refinement.focus_filtering.measure_focus : TFP for frame 14/61\n",
      "2020-10-25 20:22:25,992 : INFO : git.focus_stack_refinement.focus_filtering.measure_focus : TFP for frame 15/61\n",
      "2020-10-25 20:22:26,023 : INFO : git.focus_stack_refinement.focus_filtering.measure_focus : TFP for frame 16/61\n",
      "2020-10-25 20:22:26,053 : INFO : git.focus_stack_refinement.focus_filtering.measure_focus : TFP for frame 17/61\n",
      "2020-10-25 20:22:26,083 : INFO : git.focus_stack_refinement.focus_filtering.measure_focus : TFP for frame 18/61\n",
      "2020-10-25 20:22:26,114 : INFO : git.focus_stack_refinement.focus_filtering.measure_focus : TFP for frame 19/61\n",
      "2020-10-25 20:22:26,145 : INFO : git.focus_stack_refinement.focus_filtering.measure_focus : TFP for frame 20/61\n",
      "2020-10-25 20:22:26,176 : INFO : git.focus_stack_refinement.focus_filtering.measure_focus : TFP for frame 21/61\n",
      "2020-10-25 20:22:26,206 : INFO : git.focus_stack_refinement.focus_filtering.measure_focus : TFP for frame 22/61\n",
      "2020-10-25 20:22:26,236 : INFO : git.focus_stack_refinement.focus_filtering.measure_focus : TFP for frame 23/61\n",
      "2020-10-25 20:22:26,266 : INFO : git.focus_stack_refinement.focus_filtering.measure_focus : TFP for frame 24/61\n",
      "2020-10-25 20:22:26,296 : INFO : git.focus_stack_refinement.focus_filtering.measure_focus : TFP for frame 25/61\n",
      "2020-10-25 20:22:26,329 : INFO : git.focus_stack_refinement.focus_filtering.measure_focus : TFP for frame 26/61\n",
      "2020-10-25 20:22:26,357 : INFO : git.focus_stack_refinement.focus_filtering.measure_focus : TFP for frame 27/61\n",
      "2020-10-25 20:22:26,389 : INFO : git.focus_stack_refinement.focus_filtering.measure_focus : TFP for frame 28/61\n",
      "2020-10-25 20:22:26,419 : INFO : git.focus_stack_refinement.focus_filtering.measure_focus : TFP for frame 29/61\n",
      "2020-10-25 20:22:26,449 : INFO : git.focus_stack_refinement.focus_filtering.measure_focus : TFP for frame 30/61\n",
      "2020-10-25 20:22:26,478 : INFO : git.focus_stack_refinement.focus_filtering.measure_focus : TFP for frame 31/61\n",
      "2020-10-25 20:22:26,507 : INFO : git.focus_stack_refinement.focus_filtering.measure_focus : TFP for frame 32/61\n",
      "2020-10-25 20:22:26,538 : INFO : git.focus_stack_refinement.focus_filtering.measure_focus : TFP for frame 33/61\n",
      "2020-10-25 20:22:26,567 : INFO : git.focus_stack_refinement.focus_filtering.measure_focus : TFP for frame 34/61\n",
      "2020-10-25 20:22:26,599 : INFO : git.focus_stack_refinement.focus_filtering.measure_focus : TFP for frame 35/61\n",
      "2020-10-25 20:22:26,630 : INFO : git.focus_stack_refinement.focus_filtering.measure_focus : TFP for frame 36/61\n",
      "2020-10-25 20:22:26,661 : INFO : git.focus_stack_refinement.focus_filtering.measure_focus : TFP for frame 37/61\n",
      "2020-10-25 20:22:26,691 : INFO : git.focus_stack_refinement.focus_filtering.measure_focus : TFP for frame 38/61\n",
      "2020-10-25 20:22:26,721 : INFO : git.focus_stack_refinement.focus_filtering.measure_focus : TFP for frame 39/61\n",
      "2020-10-25 20:22:26,750 : INFO : git.focus_stack_refinement.focus_filtering.measure_focus : TFP for frame 40/61\n",
      "2020-10-25 20:22:26,780 : INFO : git.focus_stack_refinement.focus_filtering.measure_focus : TFP for frame 41/61\n",
      "2020-10-25 20:22:26,814 : INFO : git.focus_stack_refinement.focus_filtering.measure_focus : TFP for frame 42/61\n",
      "2020-10-25 20:22:26,845 : INFO : git.focus_stack_refinement.focus_filtering.measure_focus : TFP for frame 43/61\n",
      "2020-10-25 20:22:26,876 : INFO : git.focus_stack_refinement.focus_filtering.measure_focus : TFP for frame 44/61\n",
      "2020-10-25 20:22:26,913 : INFO : git.focus_stack_refinement.focus_filtering.measure_focus : TFP for frame 45/61\n",
      "2020-10-25 20:22:26,945 : INFO : git.focus_stack_refinement.focus_filtering.measure_focus : TFP for frame 46/61\n",
      "2020-10-25 20:22:26,979 : INFO : git.focus_stack_refinement.focus_filtering.measure_focus : TFP for frame 47/61\n",
      "2020-10-25 20:22:27,010 : INFO : git.focus_stack_refinement.focus_filtering.measure_focus : TFP for frame 48/61\n",
      "2020-10-25 20:22:27,039 : INFO : git.focus_stack_refinement.focus_filtering.measure_focus : TFP for frame 49/61\n",
      "2020-10-25 20:22:27,069 : INFO : git.focus_stack_refinement.focus_filtering.measure_focus : TFP for frame 50/61\n",
      "2020-10-25 20:22:27,100 : INFO : git.focus_stack_refinement.focus_filtering.measure_focus : TFP for frame 51/61\n",
      "2020-10-25 20:22:27,131 : INFO : git.focus_stack_refinement.focus_filtering.measure_focus : TFP for frame 52/61\n",
      "2020-10-25 20:22:27,163 : INFO : git.focus_stack_refinement.focus_filtering.measure_focus : TFP for frame 53/61\n",
      "2020-10-25 20:22:27,194 : INFO : git.focus_stack_refinement.focus_filtering.measure_focus : TFP for frame 54/61\n",
      "2020-10-25 20:22:27,224 : INFO : git.focus_stack_refinement.focus_filtering.measure_focus : TFP for frame 55/61\n",
      "2020-10-25 20:22:27,257 : INFO : git.focus_stack_refinement.focus_filtering.measure_focus : TFP for frame 56/61\n",
      "2020-10-25 20:22:27,286 : INFO : git.focus_stack_refinement.focus_filtering.measure_focus : TFP for frame 57/61\n",
      "2020-10-25 20:22:27,317 : INFO : git.focus_stack_refinement.focus_filtering.measure_focus : TFP for frame 58/61\n",
      "2020-10-25 20:22:27,347 : INFO : git.focus_stack_refinement.focus_filtering.measure_focus : TFP for frame 59/61\n",
      "2020-10-25 20:22:27,378 : INFO : git.focus_stack_refinement.focus_filtering.measure_focus : TFP for frame 60/61\n",
      "2020-10-25 20:22:27,407 : INFO : git.focus_stack_refinement.focus_filtering.measure_focus : TFP for frame 61/61\n",
      "2020-10-25 20:22:27,438 : INFO : git.focus_stack_refinement.focus_filtering.measure_focus : Size of filtered stack 2\n",
      "2020-10-25 20:22:27,439 : INFO : git.focus_stack_refinement.focus_filtering.filter_image : Success! After filtering image stack contains 2 images\n",
      "2020-10-25 20:22:27,441 : INFO : git.focus_stack_refinement.focus_filtering.filter_image : The best image indices are by focus measure operator: [49, 52]\n",
      "2020-10-25 20:22:27,450 : INFO : git.focus_stack_refinement.focus_filtering.post_filtering : Equality delta between img#51 and img#52: 2.760750\n",
      "2020-10-25 20:22:27,452 : INFO : git.focus_stack_refinement.focus_filtering.post_filtering : 0 duplicates were found and deleted!\n",
      "2020-10-25 20:22:27,454 : INFO : git.focus_stack_refinement.focus_filtering.post_filtering : Next blurred images were deleted: [49]\n"
     ]
    }
   ],
   "source": [
    "top_by_classic = supp.get_classic_filtering_results('datasets/' + dataset + '/')"
   ],
   "metadata": {
    "collapsed": false,
    "pycharm": {
     "name": "#%%\n"
    }
   }
  },
  {
   "cell_type": "code",
   "execution_count": 41,
   "outputs": [
    {
     "data": {
      "text/plain": "[52]"
     },
     "execution_count": 41,
     "metadata": {},
     "output_type": "execute_result"
    }
   ],
   "source": [
    "top_by_classic"
   ],
   "metadata": {
    "collapsed": false,
    "pycharm": {
     "name": "#%%\n"
    }
   }
  },
  {
   "cell_type": "code",
   "execution_count": 7,
   "outputs": [],
   "source": [
    "dataset = ''\n",
    "#draw_plt_for_measures('human_hair_fast', focus_measures)\n"
   ],
   "metadata": {
    "collapsed": false,
    "pycharm": {
     "name": "#%%\n"
    }
   }
  },
  {
   "cell_type": "code",
   "execution_count": 49,
   "outputs": [
    {
     "name": "stderr",
     "output_type": "stream",
     "text": [
      "D:\\_MEL_Science\\git\\experiments\\objective_functions.py:112: RuntimeWarning: overflow encountered in long_scalars\n",
      "  return sum1 - sum2\n"
     ]
    },
    {
     "name": "stdout",
     "output_type": "stream",
     "text": [
      "[[2.466404914855957, 1.2536468505859375, 4.392256259918213, 0.9434771537780762, 1.9088952541351318]]\n",
      "[[2.466404914855957, 1.2536468505859375, 4.392256259918213, 0.9434771537780762, 1.9088952541351318], [6.786852121353149, 3.28721022605896, 10.147865772247314, 2.4773755073547363, 5.558139324188232]]\n",
      "[[2.466404914855957, 1.2536468505859375, 4.392256259918213, 0.9434771537780762, 1.9088952541351318], [6.786852121353149, 3.28721022605896, 10.147865772247314, 2.4773755073547363, 5.558139324188232], [12.607288837432861, 6.52355694770813, 19.11588430404663, 4.365327835083008, 8.975001811981201]]\n",
      "[[2.466404914855957, 1.2536468505859375, 4.392256259918213, 0.9434771537780762, 1.9088952541351318], [6.786852121353149, 3.28721022605896, 10.147865772247314, 2.4773755073547363, 5.558139324188232], [12.607288837432861, 6.52355694770813, 19.11588430404663, 4.365327835083008, 8.975001811981201], [64.73789381980896, 35.20286965370178, 106.6348648071289, 26.571948051452637, 48.69279932975769]]\n",
      "[[2.466404914855957, 1.2536468505859375, 4.392256259918213, 0.9434771537780762, 1.9088952541351318], [6.786852121353149, 3.28721022605896, 10.147865772247314, 2.4773755073547363, 5.558139324188232], [12.607288837432861, 6.52355694770813, 19.11588430404663, 4.365327835083008, 8.975001811981201], [64.73789381980896, 35.20286965370178, 106.6348648071289, 26.571948051452637, 48.69279932975769], [82.30591893196106, 41.8461058139801, 132.32018399238586, 31.74212384223938, 64.04075884819031]]\n",
      "[[2.466404914855957, 1.2536468505859375, 4.392256259918213, 0.9434771537780762, 1.9088952541351318], [6.786852121353149, 3.28721022605896, 10.147865772247314, 2.4773755073547363, 5.558139324188232], [12.607288837432861, 6.52355694770813, 19.11588430404663, 4.365327835083008, 8.975001811981201], [64.73789381980896, 35.20286965370178, 106.6348648071289, 26.571948051452637, 48.69279932975769], [82.30591893196106, 41.8461058139801, 132.32018399238586, 31.74212384223938, 64.04075884819031], [172.30327153205872, 88.53426480293274, 284.18311190605164, 66.26281762123108, 132.02397561073303]]\n",
      "[[2.466404914855957, 1.2536468505859375, 4.392256259918213, 0.9434771537780762, 1.9088952541351318], [6.786852121353149, 3.28721022605896, 10.147865772247314, 2.4773755073547363, 5.558139324188232], [12.607288837432861, 6.52355694770813, 19.11588430404663, 4.365327835083008, 8.975001811981201], [64.73789381980896, 35.20286965370178, 106.6348648071289, 26.571948051452637, 48.69279932975769], [82.30591893196106, 41.8461058139801, 132.32018399238586, 31.74212384223938, 64.04075884819031], [172.30327153205872, 88.53426480293274, 284.18311190605164, 66.26281762123108, 132.02397561073303], [83.1696093082428, 42.625022888183594, 118.4213514328003, 32.03134751319885, 59.465991497039795]]\n",
      "[[2.466404914855957, 1.2536468505859375, 4.392256259918213, 0.9434771537780762, 1.9088952541351318], [6.786852121353149, 3.28721022605896, 10.147865772247314, 2.4773755073547363, 5.558139324188232], [12.607288837432861, 6.52355694770813, 19.11588430404663, 4.365327835083008, 8.975001811981201], [64.73789381980896, 35.20286965370178, 106.6348648071289, 26.571948051452637, 48.69279932975769], [82.30591893196106, 41.8461058139801, 132.32018399238586, 31.74212384223938, 64.04075884819031], [172.30327153205872, 88.53426480293274, 284.18311190605164, 66.26281762123108, 132.02397561073303], [83.1696093082428, 42.625022888183594, 118.4213514328003, 32.03134751319885, 59.465991497039795], [170.36345839500427, 81.93092203140259, 268.6695935726166, 63.54109501838684, 125.8444995880127]]\n",
      "[[2.466404914855957, 1.2536468505859375, 4.392256259918213, 0.9434771537780762, 1.9088952541351318], [6.786852121353149, 3.28721022605896, 10.147865772247314, 2.4773755073547363, 5.558139324188232], [12.607288837432861, 6.52355694770813, 19.11588430404663, 4.365327835083008, 8.975001811981201], [64.73789381980896, 35.20286965370178, 106.6348648071289, 26.571948051452637, 48.69279932975769], [82.30591893196106, 41.8461058139801, 132.32018399238586, 31.74212384223938, 64.04075884819031], [172.30327153205872, 88.53426480293274, 284.18311190605164, 66.26281762123108, 132.02397561073303], [83.1696093082428, 42.625022888183594, 118.4213514328003, 32.03134751319885, 59.465991497039795], [170.36345839500427, 81.93092203140259, 268.6695935726166, 63.54109501838684, 125.8444995880127], [1.6765170097351074, 0.8916158676147461, 2.559157133102417, 0.6761918067932129, 1.2825706005096436]]\n",
      "[[2.466404914855957, 1.2536468505859375, 4.392256259918213, 0.9434771537780762, 1.9088952541351318], [6.786852121353149, 3.28721022605896, 10.147865772247314, 2.4773755073547363, 5.558139324188232], [12.607288837432861, 6.52355694770813, 19.11588430404663, 4.365327835083008, 8.975001811981201], [64.73789381980896, 35.20286965370178, 106.6348648071289, 26.571948051452637, 48.69279932975769], [82.30591893196106, 41.8461058139801, 132.32018399238586, 31.74212384223938, 64.04075884819031], [172.30327153205872, 88.53426480293274, 284.18311190605164, 66.26281762123108, 132.02397561073303], [83.1696093082428, 42.625022888183594, 118.4213514328003, 32.03134751319885, 59.465991497039795], [170.36345839500427, 81.93092203140259, 268.6695935726166, 63.54109501838684, 125.8444995880127], [1.6765170097351074, 0.8916158676147461, 2.559157133102417, 0.6761918067932129, 1.2825706005096436], [5.85933256149292, 3.1525702476501465, 9.224334716796875, 2.373652696609497, 4.3802876472473145]]\n",
      "[[2.466404914855957, 1.2536468505859375, 4.392256259918213, 0.9434771537780762, 1.9088952541351318], [6.786852121353149, 3.28721022605896, 10.147865772247314, 2.4773755073547363, 5.558139324188232], [12.607288837432861, 6.52355694770813, 19.11588430404663, 4.365327835083008, 8.975001811981201], [64.73789381980896, 35.20286965370178, 106.6348648071289, 26.571948051452637, 48.69279932975769], [82.30591893196106, 41.8461058139801, 132.32018399238586, 31.74212384223938, 64.04075884819031], [172.30327153205872, 88.53426480293274, 284.18311190605164, 66.26281762123108, 132.02397561073303], [83.1696093082428, 42.625022888183594, 118.4213514328003, 32.03134751319885, 59.465991497039795], [170.36345839500427, 81.93092203140259, 268.6695935726166, 63.54109501838684, 125.8444995880127], [1.6765170097351074, 0.8916158676147461, 2.559157133102417, 0.6761918067932129, 1.2825706005096436], [5.85933256149292, 3.1525702476501465, 9.224334716796875, 2.373652696609497, 4.3802876472473145], [10.202718734741211, 5.489321947097778, 16.05506944656372, 4.134943723678589, 7.590703010559082]]\n",
      "[[2.466404914855957, 1.2536468505859375, 4.392256259918213, 0.9434771537780762, 1.9088952541351318], [6.786852121353149, 3.28721022605896, 10.147865772247314, 2.4773755073547363, 5.558139324188232], [12.607288837432861, 6.52355694770813, 19.11588430404663, 4.365327835083008, 8.975001811981201], [64.73789381980896, 35.20286965370178, 106.6348648071289, 26.571948051452637, 48.69279932975769], [82.30591893196106, 41.8461058139801, 132.32018399238586, 31.74212384223938, 64.04075884819031], [172.30327153205872, 88.53426480293274, 284.18311190605164, 66.26281762123108, 132.02397561073303], [83.1696093082428, 42.625022888183594, 118.4213514328003, 32.03134751319885, 59.465991497039795], [170.36345839500427, 81.93092203140259, 268.6695935726166, 63.54109501838684, 125.8444995880127], [1.6765170097351074, 0.8916158676147461, 2.559157133102417, 0.6761918067932129, 1.2825706005096436], [5.85933256149292, 3.1525702476501465, 9.224334716796875, 2.373652696609497, 4.3802876472473145], [10.202718734741211, 5.489321947097778, 16.05506944656372, 4.134943723678589, 7.590703010559082], [59.881879568099976, 32.13507270812988, 94.20909094810486, 24.103549003601074, 44.19682002067566]]\n",
      "[[2.466404914855957, 1.2536468505859375, 4.392256259918213, 0.9434771537780762, 1.9088952541351318], [6.786852121353149, 3.28721022605896, 10.147865772247314, 2.4773755073547363, 5.558139324188232], [12.607288837432861, 6.52355694770813, 19.11588430404663, 4.365327835083008, 8.975001811981201], [64.73789381980896, 35.20286965370178, 106.6348648071289, 26.571948051452637, 48.69279932975769], [82.30591893196106, 41.8461058139801, 132.32018399238586, 31.74212384223938, 64.04075884819031], [172.30327153205872, 88.53426480293274, 284.18311190605164, 66.26281762123108, 132.02397561073303], [83.1696093082428, 42.625022888183594, 118.4213514328003, 32.03134751319885, 59.465991497039795], [170.36345839500427, 81.93092203140259, 268.6695935726166, 63.54109501838684, 125.8444995880127], [1.6765170097351074, 0.8916158676147461, 2.559157133102417, 0.6761918067932129, 1.2825706005096436], [5.85933256149292, 3.1525702476501465, 9.224334716796875, 2.373652696609497, 4.3802876472473145], [10.202718734741211, 5.489321947097778, 16.05506944656372, 4.134943723678589, 7.590703010559082], [59.881879568099976, 32.13507270812988, 94.20909094810486, 24.103549003601074, 44.19682002067566], [5.833401918411255, 3.1505753993988037, 9.07174277305603, 2.400580883026123, 4.34338641166687]]\n"
     ]
    }
   ],
   "source": [
    "file_names = np.array(os.listdir('datasets/'))\n",
    "mask = [re.match(r'.*\\..*', file_name) is None for file_name in file_names]\n",
    "dataset_directories = file_names[mask]\n",
    "time_results = []\n",
    "for dataset in dataset_directories:\n",
    "    time_results.append(supp.draw_plt_for_measures(dataset, focus_measures))\n",
    "    print(time_results)"
   ],
   "metadata": {
    "collapsed": false,
    "pycharm": {
     "name": "#%%\n"
    }
   }
  },
  {
   "cell_type": "code",
   "execution_count": 36,
   "outputs": [
    {
     "data": {
      "text/plain": "[          0\n 0  2.386616\n 1  1.147931\n 2  3.841728\n 3  0.923529\n 4  1.745333,\n            0\n 0   6.287188\n 1   3.248315\n 2  10.003251\n 3   2.461419\n 4   4.862997]"
     },
     "execution_count": 36,
     "metadata": {},
     "output_type": "execute_result"
    }
   ],
   "source": [
    "time_results"
   ],
   "metadata": {
    "collapsed": false,
    "pycharm": {
     "name": "#%%\n"
    }
   }
  },
  {
   "cell_type": "code",
   "execution_count": 9,
   "outputs": [
    {
     "data": {
      "text/plain": "158"
     },
     "execution_count": 9,
     "metadata": {},
     "output_type": "execute_result"
    }
   ],
   "source": [
    "#img = cv.imread('datasets/bee_wing_fast/frame0.jpg', cv.IMREAD_GRAYSCALE)\n",
    "#img\n",
    "#lapl = cv.Laplacian(img, 3)\n",
    "#np.max(lapl)\n",
    "#np.max(cv.convertScaleAbs(lapl))\n",
    "#of.MLOG(img)"
   ],
   "metadata": {
    "collapsed": false,
    "pycharm": {
     "name": "#%%\n"
    }
   }
  },
  {
   "cell_type": "code",
   "execution_count": 4,
   "outputs": [
    {
     "name": "stderr",
     "output_type": "stream",
     "text": [
      "D:\\_MEL_Science\\git\\experiments\\objective_functions.py:113: RuntimeWarning: overflow encountered in long_scalars\n",
      "  return sum1 - sum2\n"
     ]
    }
   ],
   "source": [
    "# ещё datasets/VIDEOS-CARFULLY-EXTRACT/hd-zip и pro\n",
    "# pro - wmv вместо mp4!\n",
    "path_to_zip_files = 'datasets/VIDEOS-CARFULLY-EXTRACT/zip-files/'\n",
    "for dirpath, dirnames, filenames in os.walk(path_to_zip_files):\n",
    "    if len(filenames) != 0:\n",
    "        videos = list(filter(lambda x: x[-3:] == 'mp4', filenames))\n",
    "        for video in videos:\n",
    "            video_dir = dirpath + '/'\n",
    "            graph_name = dirpath.split('\\\\')[-1] + '_' + video[0:-4]\n",
    "            # graph_name = 'pro_' + dirpath.split('\\\\')[-1] + '_' + video[0:-4]\n",
    "            # graph_name = 'hd_' + video[0:-4]\n",
    "            if (graph_name + '.png') not in os.listdir('results/'):\n",
    "                supp.draw_plt_optimized(video_dir, video, graph_name, focus_measures, generate_tmp_frame_stack=True)"
   ],
   "metadata": {
    "collapsed": false,
    "pycharm": {
     "name": "#%%\n"
    }
   }
  },
  {
   "cell_type": "code",
   "execution_count": 6,
   "outputs": [
    {
     "name": "stderr",
     "output_type": "stream",
     "text": [
      "D:\\_MEL_Science\\git\\experiments\\objective_functions.py:113: RuntimeWarning: overflow encountered in long_scalars\n",
      "  return sum1 - sum2\n"
     ]
    }
   ],
   "source": [
    "# ещё datasets/VIDEOS-CARFULLY-EXTRACT/hd-zip и pro\n",
    "# pro - wmv вместо mp4!\n",
    "path_to_zip_files = 'datasets/VIDEOS-CARFULLY-EXTRACT/hd_zip/1920x1080/'\n",
    "for dirpath, dirnames, filenames in os.walk(path_to_zip_files):\n",
    "    if len(filenames) != 0:\n",
    "        videos = list(filter(lambda x: x[-3:] == 'mp4', filenames))\n",
    "        for video in videos:\n",
    "            video_dir = dirpath + '/'\n",
    "            graph_name = 'hd_' + video[0:-4]\n",
    "            # graph_name = 'pro_' + dirpath.split('\\\\')[-1] + '_' + video[0:-4]\n",
    "            # graph_name = 'hd_' + video[0:-4]\n",
    "            if (graph_name + '.png') not in os.listdir('results/'):\n",
    "                supp.draw_plt_optimized(video_dir, video, graph_name, focus_measures, generate_tmp_frame_stack=True)"
   ],
   "metadata": {
    "collapsed": false,
    "pycharm": {
     "name": "#%%\n"
    }
   }
  },
  {
   "cell_type": "code",
   "execution_count": 39,
   "outputs": [
    {
     "data": {
      "text/plain": "['08.04.2020',\n '10.04.2020',\n '11.04.2020',\n '12.04.2020',\n '4.04.2020',\n '6.04.2020',\n 'drive-download-20201023T081242Z-001.zip',\n 'drive-download-20201023T081242Z-002.zip',\n 'drive-download-20201023T081242Z-003.zip',\n 'drive-download-20201023T081242Z-004.zip',\n 'drive-download-20201023T081242Z-005.zip',\n 'drive-download-20201023T081242Z-006.zip',\n 'drive-download-20201023T081242Z-007.zip',\n 'drive-download-20201023T081242Z-008.zip',\n 'drive-download-20201023T081242Z-009.zip']"
     },
     "execution_count": 39,
     "metadata": {},
     "output_type": "execute_result"
    }
   ],
   "source": [
    "os.listdir(path_to_zip_files)\n"
   ],
   "metadata": {
    "collapsed": false,
    "pycharm": {
     "name": "#%%\n"
    }
   }
  },
  {
   "cell_type": "code",
   "execution_count": 38,
   "outputs": [],
   "source": [
    "from shutil import rmtree\n",
    "rmtree('tmp')"
   ],
   "metadata": {
    "collapsed": false,
    "pycharm": {
     "name": "#%%\n"
    }
   }
  },
  {
   "cell_type": "code",
   "execution_count": 4,
   "outputs": [
    {
     "name": "stdout",
     "output_type": "stream",
     "text": [
      "bee_wing_fast\n",
      "bee_wing_medium\n",
      "bee_wing_slow\n",
      "bee_wing_super_slow\n",
      "hd_bee_wing\n",
      "hd_bee_wing(super slow)\n",
      "hd_human_hair\n",
      "hd_human_hair(super slow)\n",
      "human_hair_fast\n",
      "human_hair_medium\n",
      "human_hair_slow\n",
      "human_hair_super_slow\n",
      "pro_leaf_green\n",
      "VIDEOS-CARFULLY-EXTRACT\n"
     ]
    }
   ],
   "source": [
    "'datasets/VIDEOS-CARFULLY-EXTRACT/zip-files/08.04.2020/Bee Worker Leg-Composite/fast.mp4'.split('/', 1)"
   ],
   "metadata": {
    "collapsed": false,
    "pycharm": {
     "name": "#%%\n"
    }
   }
  },
  {
   "cell_type": "code",
   "execution_count": 7,
   "outputs": [
    {
     "name": "stderr",
     "output_type": "stream",
     "text": [
      "D:\\_MEL_Science\\git\\experiments\\objective_functions.py:113: RuntimeWarning: overflow encountered in long_scalars\n",
      "  return sum1 - sum2\n"
     ]
    },
    {
     "data": {
      "text/plain": "[1.2586345672607422, 0.4946780204772949, 2.243001937866211, 0.9155514240264893]"
     },
     "execution_count": 7,
     "metadata": {},
     "output_type": "execute_result"
    }
   ],
   "source": [
    "path_to_file = 'datasets/спирогира.mp4'\n",
    "\n",
    "video_dir = 'datasets/'\n",
    "# graph_name = 'pro_' + dirpath.split('\\\\')[-1] + '_' + video[0:-4]\n",
    "graph_name = 'test_спирогира'\n",
    "\n",
    "supp.draw_plt_for_measures(video_dir, 'спирогира.mp4', graph_name, focus_measures, generate_tmp_frame_stack=True)"
   ],
   "metadata": {
    "collapsed": false,
    "pycharm": {
     "name": "#%%\n"
    }
   }
  },
  {
   "cell_type": "code",
   "execution_count": 22,
   "outputs": [
    {
     "name": "stdout",
     "output_type": "stream",
     "text": [
      "Earthworm 160x120 fast\n",
      "Earthworm 160x120 medium\n",
      "Earthworm 320x240 fast\n",
      "Earthworm 320x240 medium\n",
      "Earthworm 640x480 fast\n",
      "Earthworm 640x480 medium\n",
      "Honeybee leg 160x120 fast\n",
      "Honeybee leg 160x120 medium\n",
      "Honeybee leg 320x240 fast\n",
      "Honeybee leg 320x240 medium\n",
      "Honeybee leg 640x480 fast\n",
      "Honeybee leg 640x480 medium\n",
      "Эпидермис репчатого лука 160x120 fast\n",
      "Эпидермис репчатого лука 160x120 medium\n",
      "Эпидермис репчатого лука 320x240 fast\n",
      "Эпидермис репчатого лука 320x240 medium\n",
      "Эпидермис репчатого лука 640x480 fast\n",
      "Эпидермис репчатого лука 640x480 medium\n",
      "Bee Worker Leg-Composite fast\n",
      "Bee Worker Leg-Composite medium\n",
      "Bone Marrow Mammal fast\n",
      "Bone Marrow Mammal medium\n",
      "Butterfly Wings Ocales fast\n",
      "Butterfly Wings Ocales medium\n",
      "Cerebrum Mammal fast\n",
      "Cerebrum Mammal medium\n",
      "Chlamydomonas fast\n",
      "Chlamydomonas medium\n",
      "Coprinus Mushroom Set fast\n",
      "Coprinus Mushroom Set medium\n",
      "Cucurbita Stem fast\n",
      "Cucurbita Stem medium\n",
      "Daphnia fast\n",
      "Daphnia medium\n",
      "Dog Cardiac Muscle fast\n",
      "Dog Cardiac Muscle medium\n",
      "Dog Duodenum fast\n",
      "Dog Duodenum medium\n",
      "Dog Esophagus fast\n",
      "Dog Esophagus medium\n",
      "Dog ILeum fast\n",
      "Dog ILeum medium\n",
      "Dog Jejunum fast\n",
      "Dog Jejunum medium\n",
      "Dog Pancreas fast\n",
      "Dog Pancreas medium\n",
      "Dog Rectum fast\n",
      "Dog Rectum medium\n",
      "Dog Skeletal Muscle fast\n",
      "Dog Skeletal Muscle medium\n",
      "Dog Small Intestine fast\n",
      "Dog Small Intestine medium\n",
      "Dog Smooth Muscle fast\n",
      "Dog Smooth Muscle medium\n",
      "Dog Spleen fast\n",
      "Dog Spleen medium\n",
      "Dog Squamous Epithelium fast\n",
      "Dog Squamous Epithelium medium\n",
      "Dog Stomach fast\n",
      "Dog Stomach medium\n",
      "Dog Trachea fast\n",
      "Dog Trachea medium\n",
      "Dog Ureter fast\n",
      "Dog Ureter medium\n",
      "Dragonfly Wings fast\n",
      "Dragonfly Wings medium\n",
      "Earthworm fast\n",
      "Earthworm medium\n",
      "Euglena fast\n",
      "Euglena medium\n",
      "Feather fast\n",
      "Feather medium\n",
      "Fern Leaf-Sorus fast\n",
      "Fern Leaf-Sorus medium\n",
      "Fern Prothallia fast\n",
      "Fern Prothallia medium\n",
      "Fern Prothallia and Sporangia fast\n",
      "Fern Prothallia and Sporangia medium\n",
      "Fish Blood fast\n",
      "Fish Blood medium\n",
      "Fish Scales fast\n",
      "Fish Scales medium\n",
      "Frog Blood fast\n",
      "Frog Blood medium\n",
      "Frog Epidermic Cell fast\n",
      "Frog Epidermic Cell medium\n",
      "Frog Liver fast\n",
      "Frog Liver medium\n",
      "Frog Lung fast\n",
      "Frog Lung medium\n",
      "Frog Showing Spermary fast\n",
      "Frog Showing Spermary medium\n",
      "Honeybee Mouth Parts fast\n",
      "Honeybee Mouth Parts medium\n",
      "Housefly Compound Eye fast\n",
      "Housefly Compound Eye medium\n",
      "Housefly Mouth Parts fast\n",
      "Housefly Mouth Parts medium\n",
      "Human Blood fast\n",
      "Human Blood medium\n",
      "Human Hair fast\n",
      "Human Hair medium\n",
      "Human Spermatozoa fast\n",
      "Human Spermatozoa medium\n",
      "Hydra fast\n",
      "Hydra medium\n",
      "Hydrilla Verticillata Leaf fast\n",
      "Hydrilla Verticillata Leaf medium\n",
      "Ipomoea Leaf fast\n",
      "Ipomoea Leaf medium\n",
      "Ipomoea Root fast\n",
      "Ipomoea Root medium\n",
      "Lilium Anther fast\n",
      "Lilium Anther medium\n",
      "Lilium Ovary fast\n",
      "Lilium Ovary medium\n",
      "Marchantia Mature Sporophyte fast\n",
      "Marchantia Mature Sporophyte medium\n",
      "Meiosis-Lillitrm Pollen fast\n",
      "Meiosis-Lillitrm Pollen medium\n",
      "Mitosis-Onion Root Tip fast\n",
      "Mitosis-Onion Root Tip medium\n",
      "Mixed Bacteria fast\n",
      "Mixed Bacteria medium\n",
      "Mosquito Larva fast\n",
      "Mosquito Larva medium\n",
      "Mosquito Mouth Parts fast\n",
      "Mosquito Mouth Parts medium\n",
      "Mosquito Wings fast\n",
      "Mosquito Wings medium\n",
      "Nervous Tissue fast\n",
      "Nervous Tissue medium\n",
      "Onion Epidermis fast\n",
      "Onion Epidermis medium\n",
      "Paramecium fast\n",
      "Paramecium medium\n",
      "Pig Motor Nerve fast\n",
      "Pig Motor Nerve medium\n",
      "Pine Leaf fast\n",
      "Pine Leaf medium\n",
      "Pine Root fast\n",
      "Pine Root medium\n",
      "Pine Stem fast\n",
      "Pine Stem medium\n",
      "Pine Young Staminate Cone fast\n",
      "Pine Young Staminate Cone medium\n",
      "Poa Leaf fast\n",
      "Poa Leaf medium\n",
      "Pollen Gem fast\n",
      "Pollen Gem medium\n",
      "Pome Sclereid fast\n",
      "Pome Sclereid medium\n",
      "Pumpkin Stem fast\n",
      "Pumpkin Stem medium\n",
      "Rabbit Arteriole fast\n",
      "Rabbit Arteriole medium\n",
      "Rabbit Artery and Vein fast\n",
      "Rabbit Artery and Vein medium\n",
      "Rabbit Blood fast\n",
      "Rabbit Blood medium\n",
      "Rabbit Hyaline Cartilage fast\n",
      "Rabbit Hyaline Cartilage medium\n",
      "Rabbit Lymph Node fast\n",
      "Rabbit Lymph Node medium\n",
      "Rabbit Spinal Cord fast\n",
      "Rabbit Spinal Cord medium\n",
      "Rabbit Testis fast\n",
      "Rabbit Testis medium\n",
      "Rhizopus fast\n",
      "Rhizopus medium\n",
      "Rice Stem fast\n",
      "Rice Stem medium\n",
      "Root-Meristem fast\n",
      "Root-Meristem medium\n",
      "Smooth Muscle Breakaway fast\n",
      "Smooth Muscle Breakaway medium\n",
      "Spirillum fast\n",
      "Spirillum medium\n",
      "Spirogyia Conjugation fast\n",
      "Spirogyia Conjugation medium\n",
      "Stem-Collenchyma fast\n",
      "Stem-Collenchyma medium\n",
      "Stem-Parenchyma fast\n",
      "Stem-Parenchyma medium\n",
      "Stem-Sclerenchyma fast\n",
      "Stem-Sclerenchyma medium\n",
      "Stem-Tracheid fast\n",
      "Stem-Tracheid medium\n",
      "Stomata-Vicia Faba Leaf fast\n",
      "Stomata-Vicia Faba Leaf medium\n",
      "Sunflower Stem fast\n",
      "Sunflower Stem medium\n",
      "Tilia Stem fast\n",
      "Tilia Stem medium\n",
      "Tomato Flesh fast\n",
      "Tomato Flesh medium\n",
      "Volvox fast\n",
      "Volvox medium\n",
      "Yeast-Budding fast\n",
      "Yeast-Budding medium\n",
      "Zea Root fast\n",
      "Zea Root medium\n",
      "Zea Root Tip fast\n",
      "Zea Root Tip medium\n",
      "Zea Seed fast\n",
      "Zea Seed medium\n",
      "Zea Stem fast\n",
      "Zea Stem medium\n",
      "Ascaris female fast\n",
      "Ascaris female medium\n",
      "Butterfly scales fast\n",
      "Butterfly scales medium\n",
      "Earthworm fast\n",
      "Earthworm medium\n",
      "Fowl feather fast\n",
      "Fowl feather medium\n",
      "Goldfish scale fast\n",
      "Goldfish scale medium\n",
      "Honeybee leg fast\n",
      "Honeybee leg medium\n",
      "Hydra fast\n",
      "Hydra medium\n",
      "Onion bulb epidermis fast\n",
      "Onion bulb epidermis medium\n",
      "Артерия fast\n",
      "Артерия medium\n",
      "Гаметофит папоротника fast\n",
      "Гаметофит папоротника medium\n",
      "Гладкие мышцы fast\n",
      "Гладкие мышцы medium\n",
      "Корень fast\n",
      "Корень medium\n",
      "Кровь лягушки fast\n",
      "Кровь лягушки medium\n",
      "Кровь человека fast\n",
      "Кровь человека medium\n",
      "Легкие fast\n",
      "Легкие medium\n",
      "Лимфатический узел fast\n",
      "Лимфатический узел medium\n",
      "Мерцательный эпителий fast\n",
      "Мерцательный эпителий medium\n",
      "Нейрон fast\n",
      "Нейрон medium\n",
      "Поперечнополосатая мышечная ткань fast\n",
      "Поперечнополосатая мышечная ткань medium\n",
      "Простой эпителий fast\n",
      "Простой эпителий medium\n",
      "Сердечная мышца fast\n",
      "Сердечная мышца medium\n",
      "Скелетная мускульная ткань fast\n",
      "Скелетная мускульная ткань medium\n",
      "Слизистая оболочка желудка fast\n",
      "Слизистая оболочка желудка medium\n",
      "Сперма человека fast\n",
      "Сперма человека medium\n",
      "Спинной мозг fast\n",
      "Спинной мозг medium\n",
      "Эпидермис репчатого лука fast\n",
      "Эпидермис репчатого лука medium\n",
      "Язык fast\n",
      "Язык medium\n",
      "Aspergilllus fast\n",
      "Aspergilllus medium\n",
      "Bacillus fast\n",
      "Bacillus medium\n",
      "Bacteria cell fast\n",
      "Bacteria cell medium\n",
      "Bee Wings fast\n",
      "Bee Wings medium\n",
      "Butterfly mouth parts fast\n",
      "Butterfly mouth parts medium\n",
      "Chlamydomonas fast\n",
      "Chlamydomonas medium\n",
      "Cleavage of ovum fast\n",
      "Cleavage of ovum medium\n",
      "Drosophila normal fast\n",
      "Drosophila normal medium\n",
      "Human chromosomes fast\n",
      "Human chromosomes medium\n",
      "Locust mouth parts fast\n",
      "Locust mouth parts medium\n",
      "Moss archegonia fast\n",
      "Moss archegonia medium\n",
      "Mutation of drosophila - wingless form fast\n",
      "Mutation of drosophila - wingless form medium\n",
      "Penicilium fast\n",
      "Penicilium medium\n",
      "Pollen germination fast\n",
      "Pollen germination medium\n",
      "Rhizopus nigricans fast\n",
      "Rhizopus nigricans medium\n",
      "Spirogyra conjugation fast\n",
      "Spirogyra conjugation medium\n",
      "Stratified squamous epithelium fast\n",
      "Stratified squamous epithelium medium\n",
      "Yeast smear fast\n",
      "Yeast smear medium\n",
      "Зерновка кукурузы fast\n",
      "Зерновка кукурузы medium\n",
      "Корневой чехлик fast\n",
      "Корневой чехлик medium\n",
      "Митоз в клетках кончика корешка лука fast\n",
      "Митоз в клетках кончика корешка лука medium\n",
      "Поперечный разрез листа fast\n",
      "Поперечный разрез листа medium\n",
      "Пыльник лилии fast\n",
      "Пыльник лилии medium\n",
      "Пыльца лилии fast\n",
      "Пыльца лилии medium\n",
      "Пыльца сосны fast\n",
      "Пыльца сосны medium\n",
      "Спирогира fast\n",
      "Спирогира medium\n",
      "Спорангий кукушкина льна fast\n",
      "Спорангий кукушкина льна medium\n",
      "Стебель кукурузы fast\n",
      "Стебель кукурузы medium\n",
      "Стебель подсолнечника fast\n",
      "Стебель подсолнечника medium\n",
      "Стебель сосны fast\n",
      "Стебель сосны medium\n",
      "Хвоя сосны fast\n",
      "Хвоя сосны medium\n"
     ]
    },
    {
     "name": "stderr",
     "output_type": "stream",
     "text": [
      "D:\\_MEL_Science\\git\\experiments\\objective_functions.py:113: RuntimeWarning: overflow encountered in long_scalars\n",
      "  return sum1 - sum2\n"
     ]
    }
   ],
   "source": [
    "# calculate focus maps for all videos:\n",
    "path_to_zip_files = 'datasets/VIDEOS-CARFULLY-EXTRACT/'\n",
    "all_res = {}\n",
    "for dirpath, dirnames, filenames in os.walk(path_to_zip_files):\n",
    "    if len(filenames) != 0:\n",
    "        videos = list(filter(lambda x: (x[-3:] == 'mp4' or x[-3:] == 'wmv'), filenames))\n",
    "        for video in videos:\n",
    "            video_dir = dirpath + '/'\n",
    "            video_name = video[0:-4]\n",
    "            if video_name == 'slow' or video_name == 'super_slow':\n",
    "                continue\n",
    "            if video_name == 'fast' or video_name == 'medium':\n",
    "                all_res[video_name] = []\n",
    "                video_name = dirpath.split('\\\\')[-1] + ' ' + video_name\n",
    "            else:\n",
    "                continue\n",
    "            print(video_name)\n",
    "\n",
    "            stack = supp.get_frames_as_array(video_dir + video)\n",
    "            all_res[video_name] = supp.get_focus_results_from_array(stack, measure='VOLL4', to_grayscale=True)"
   ],
   "metadata": {
    "collapsed": false,
    "pycharm": {
     "name": "#%%\n"
    }
   }
  },
  {
   "cell_type": "code",
   "execution_count": 23,
   "outputs": [],
   "source": [
    "import json\n",
    "import codecs\n",
    "def convert(o):\n",
    "    if isinstance(o, np.int32): return int(o)\n",
    "    raise TypeError\n",
    "\n",
    "with codecs.open('datasets/focus_stack_results_2.txt', 'w', encoding='utf-8') as results:\n",
    "    results.writelines(json.dumps(all_res, default=convert))"
   ],
   "metadata": {
    "collapsed": false,
    "pycharm": {
     "name": "#%%\n"
    }
   }
  },
  {
   "cell_type": "code",
   "execution_count": 17,
   "outputs": [
    {
     "data": {
      "text/plain": "numpy.int32"
     },
     "execution_count": 17,
     "metadata": {},
     "output_type": "execute_result"
    }
   ],
   "source": [
    "type(all_res['bee_wing_fast'][0])\n",
    "\n",
    "\n",
    "\n",
    "\n"
   ],
   "metadata": {
    "collapsed": false,
    "pycharm": {
     "name": "#%%\n"
    }
   }
  }
 ],
 "metadata": {
  "kernelspec": {
   "display_name": "Python 3",
   "language": "python",
   "name": "python3"
  },
  "language_info": {
   "codemirror_mode": {
    "name": "ipython",
    "version": 2
   },
   "file_extension": ".py",
   "mimetype": "text/x-python",
   "name": "python",
   "nbconvert_exporter": "python",
   "pygments_lexer": "ipython2",
   "version": "2.7.6"
  }
 },
 "nbformat": 4,
 "nbformat_minor": 0
}