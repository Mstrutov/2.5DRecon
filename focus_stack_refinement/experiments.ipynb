{
 "cells": [
  {
   "cell_type": "code",
   "execution_count": 1,
   "metadata": {
    "collapsed": true
   },
   "outputs": [],
   "source": [
    "import os\n",
    "import cv2 as cv\n",
    "import numpy as np\n",
    "import re\n",
    "import git.focus_stack_refinement.support_scripts as supp"
   ]
  },
  {
   "cell_type": "code",
   "execution_count": 2,
   "outputs": [],
   "source": [
    "dataset = 'human_hair_fast'\n",
    "dataset_format = 'mp4'\n",
    "# file_names = np.array(os.listdir('datasets/'))\n",
    "# mask = [re.match(r'.*\\.mp4', file_name) is not None for file_name in file_names]\n",
    "# videos = file_names[mask]\n",
    "#\n",
    "# for video in videos:\n",
    "#     video_name = re.sub(r'(.*)\\.mp4', r'\\1', video)\n",
    "#     extract_frames(f'../focus_stack_refinement/datasets/{video}', f'../focus_stack_refinement/datasets/{video_name}/')"
   ],
   "metadata": {
    "collapsed": false,
    "pycharm": {
     "name": "#%%\n"
    }
   }
  },
  {
   "cell_type": "code",
   "execution_count": 3,
   "outputs": [],
   "source": [
    "# assuming stack frame names are: 'frame\\d{1-3}.jpg', starting with 'frame0.jpg'\n",
    "focus_measures = ['LAPV', 'LAPM', 'TENG', 'VOLL4']"
   ],
   "metadata": {
    "collapsed": false,
    "pycharm": {
     "name": "#%%\n"
    }
   }
  },
  {
   "cell_type": "code",
   "execution_count": 49,
   "outputs": [
    {
     "name": "stdout",
     "output_type": "stream",
     "text": [
      "2020-10-25 20:22:25,498 : INFO : git.focus_stack_refinement.focus_filtering.filter_image : Filtering images...\n",
      "2020-10-25 20:22:25,541 : INFO : git.focus_stack_refinement.focus_filtering.measure_focus : TFP for frame 1/61\n",
      "2020-10-25 20:22:25,577 : INFO : git.focus_stack_refinement.focus_filtering.measure_focus : TFP for frame 2/61\n",
      "2020-10-25 20:22:25,609 : INFO : git.focus_stack_refinement.focus_filtering.measure_focus : TFP for frame 3/61\n",
      "2020-10-25 20:22:25,644 : INFO : git.focus_stack_refinement.focus_filtering.measure_focus : TFP for frame 4/61\n",
      "2020-10-25 20:22:25,676 : INFO : git.focus_stack_refinement.focus_filtering.measure_focus : TFP for frame 5/61\n",
      "2020-10-25 20:22:25,710 : INFO : git.focus_stack_refinement.focus_filtering.measure_focus : TFP for frame 6/61\n",
      "2020-10-25 20:22:25,741 : INFO : git.focus_stack_refinement.focus_filtering.measure_focus : TFP for frame 7/61\n",
      "2020-10-25 20:22:25,771 : INFO : git.focus_stack_refinement.focus_filtering.measure_focus : TFP for frame 8/61\n",
      "2020-10-25 20:22:25,801 : INFO : git.focus_stack_refinement.focus_filtering.measure_focus : TFP for frame 9/61\n",
      "2020-10-25 20:22:25,836 : INFO : git.focus_stack_refinement.focus_filtering.measure_focus : TFP for frame 10/61\n",
      "2020-10-25 20:22:25,869 : INFO : git.focus_stack_refinement.focus_filtering.measure_focus : TFP for frame 11/61\n",
      "2020-10-25 20:22:25,900 : INFO : git.focus_stack_refinement.focus_filtering.measure_focus : TFP for frame 12/61\n",
      "2020-10-25 20:22:25,931 : INFO : git.focus_stack_refinement.focus_filtering.measure_focus : TFP for frame 13/61\n",
      "2020-10-25 20:22:25,961 : INFO : git.focus_stack_refinement.focus_filtering.measure_focus : TFP for frame 14/61\n",
      "2020-10-25 20:22:25,992 : INFO : git.focus_stack_refinement.focus_filtering.measure_focus : TFP for frame 15/61\n",
      "2020-10-25 20:22:26,023 : INFO : git.focus_stack_refinement.focus_filtering.measure_focus : TFP for frame 16/61\n",
      "2020-10-25 20:22:26,053 : INFO : git.focus_stack_refinement.focus_filtering.measure_focus : TFP for frame 17/61\n",
      "2020-10-25 20:22:26,083 : INFO : git.focus_stack_refinement.focus_filtering.measure_focus : TFP for frame 18/61\n",
      "2020-10-25 20:22:26,114 : INFO : git.focus_stack_refinement.focus_filtering.measure_focus : TFP for frame 19/61\n",
      "2020-10-25 20:22:26,145 : INFO : git.focus_stack_refinement.focus_filtering.measure_focus : TFP for frame 20/61\n",
      "2020-10-25 20:22:26,176 : INFO : git.focus_stack_refinement.focus_filtering.measure_focus : TFP for frame 21/61\n",
      "2020-10-25 20:22:26,206 : INFO : git.focus_stack_refinement.focus_filtering.measure_focus : TFP for frame 22/61\n",
      "2020-10-25 20:22:26,236 : INFO : git.focus_stack_refinement.focus_filtering.measure_focus : TFP for frame 23/61\n",
      "2020-10-25 20:22:26,266 : INFO : git.focus_stack_refinement.focus_filtering.measure_focus : TFP for frame 24/61\n",
      "2020-10-25 20:22:26,296 : INFO : git.focus_stack_refinement.focus_filtering.measure_focus : TFP for frame 25/61\n",
      "2020-10-25 20:22:26,329 : INFO : git.focus_stack_refinement.focus_filtering.measure_focus : TFP for frame 26/61\n",
      "2020-10-25 20:22:26,357 : INFO : git.focus_stack_refinement.focus_filtering.measure_focus : TFP for frame 27/61\n",
      "2020-10-25 20:22:26,389 : INFO : git.focus_stack_refinement.focus_filtering.measure_focus : TFP for frame 28/61\n",
      "2020-10-25 20:22:26,419 : INFO : git.focus_stack_refinement.focus_filtering.measure_focus : TFP for frame 29/61\n",
      "2020-10-25 20:22:26,449 : INFO : git.focus_stack_refinement.focus_filtering.measure_focus : TFP for frame 30/61\n",
      "2020-10-25 20:22:26,478 : INFO : git.focus_stack_refinement.focus_filtering.measure_focus : TFP for frame 31/61\n",
      "2020-10-25 20:22:26,507 : INFO : git.focus_stack_refinement.focus_filtering.measure_focus : TFP for frame 32/61\n",
      "2020-10-25 20:22:26,538 : INFO : git.focus_stack_refinement.focus_filtering.measure_focus : TFP for frame 33/61\n",
      "2020-10-25 20:22:26,567 : INFO : git.focus_stack_refinement.focus_filtering.measure_focus : TFP for frame 34/61\n",
      "2020-10-25 20:22:26,599 : INFO : git.focus_stack_refinement.focus_filtering.measure_focus : TFP for frame 35/61\n",
      "2020-10-25 20:22:26,630 : INFO : git.focus_stack_refinement.focus_filtering.measure_focus : TFP for frame 36/61\n",
      "2020-10-25 20:22:26,661 : INFO : git.focus_stack_refinement.focus_filtering.measure_focus : TFP for frame 37/61\n",
      "2020-10-25 20:22:26,691 : INFO : git.focus_stack_refinement.focus_filtering.measure_focus : TFP for frame 38/61\n",
      "2020-10-25 20:22:26,721 : INFO : git.focus_stack_refinement.focus_filtering.measure_focus : TFP for frame 39/61\n",
      "2020-10-25 20:22:26,750 : INFO : git.focus_stack_refinement.focus_filtering.measure_focus : TFP for frame 40/61\n",
      "2020-10-25 20:22:26,780 : INFO : git.focus_stack_refinement.focus_filtering.measure_focus : TFP for frame 41/61\n",
      "2020-10-25 20:22:26,814 : INFO : git.focus_stack_refinement.focus_filtering.measure_focus : TFP for frame 42/61\n",
      "2020-10-25 20:22:26,845 : INFO : git.focus_stack_refinement.focus_filtering.measure_focus : TFP for frame 43/61\n",
      "2020-10-25 20:22:26,876 : INFO : git.focus_stack_refinement.focus_filtering.measure_focus : TFP for frame 44/61\n",
      "2020-10-25 20:22:26,913 : INFO : git.focus_stack_refinement.focus_filtering.measure_focus : TFP for frame 45/61\n",
      "2020-10-25 20:22:26,945 : INFO : git.focus_stack_refinement.focus_filtering.measure_focus : TFP for frame 46/61\n",
      "2020-10-25 20:22:26,979 : INFO : git.focus_stack_refinement.focus_filtering.measure_focus : TFP for frame 47/61\n",
      "2020-10-25 20:22:27,010 : INFO : git.focus_stack_refinement.focus_filtering.measure_focus : TFP for frame 48/61\n",
      "2020-10-25 20:22:27,039 : INFO : git.focus_stack_refinement.focus_filtering.measure_focus : TFP for frame 49/61\n",
      "2020-10-25 20:22:27,069 : INFO : git.focus_stack_refinement.focus_filtering.measure_focus : TFP for frame 50/61\n",
      "2020-10-25 20:22:27,100 : INFO : git.focus_stack_refinement.focus_filtering.measure_focus : TFP for frame 51/61\n",
      "2020-10-25 20:22:27,131 : INFO : git.focus_stack_refinement.focus_filtering.measure_focus : TFP for frame 52/61\n",
      "2020-10-25 20:22:27,163 : INFO : git.focus_stack_refinement.focus_filtering.measure_focus : TFP for frame 53/61\n",
      "2020-10-25 20:22:27,194 : INFO : git.focus_stack_refinement.focus_filtering.measure_focus : TFP for frame 54/61\n",
      "2020-10-25 20:22:27,224 : INFO : git.focus_stack_refinement.focus_filtering.measure_focus : TFP for frame 55/61\n",
      "2020-10-25 20:22:27,257 : INFO : git.focus_stack_refinement.focus_filtering.measure_focus : TFP for frame 56/61\n",
      "2020-10-25 20:22:27,286 : INFO : git.focus_stack_refinement.focus_filtering.measure_focus : TFP for frame 57/61\n",
      "2020-10-25 20:22:27,317 : INFO : git.focus_stack_refinement.focus_filtering.measure_focus : TFP for frame 58/61\n",
      "2020-10-25 20:22:27,347 : INFO : git.focus_stack_refinement.focus_filtering.measure_focus : TFP for frame 59/61\n",
      "2020-10-25 20:22:27,378 : INFO : git.focus_stack_refinement.focus_filtering.measure_focus : TFP for frame 60/61\n",
      "2020-10-25 20:22:27,407 : INFO : git.focus_stack_refinement.focus_filtering.measure_focus : TFP for frame 61/61\n",
      "2020-10-25 20:22:27,438 : INFO : git.focus_stack_refinement.focus_filtering.measure_focus : Size of filtered stack 2\n",
      "2020-10-25 20:22:27,439 : INFO : git.focus_stack_refinement.focus_filtering.filter_image : Success! After filtering image stack contains 2 images\n",
      "2020-10-25 20:22:27,441 : INFO : git.focus_stack_refinement.focus_filtering.filter_image : The best image indices are by focus measure operator: [49, 52]\n",
      "2020-10-25 20:22:27,450 : INFO : git.focus_stack_refinement.focus_filtering.post_filtering : Equality delta between img#51 and img#52: 2.760750\n",
      "2020-10-25 20:22:27,452 : INFO : git.focus_stack_refinement.focus_filtering.post_filtering : 0 duplicates were found and deleted!\n",
      "2020-10-25 20:22:27,454 : INFO : git.focus_stack_refinement.focus_filtering.post_filtering : Next blurred images were deleted: [49]\n"
     ]
    }
   ],
   "source": [
    "top_by_classic = supp.get_classic_filtering_results('datasets/' + dataset + '/')"
   ],
   "metadata": {
    "collapsed": false,
    "pycharm": {
     "name": "#%%\n"
    }
   }
  },
  {
   "cell_type": "code",
   "execution_count": 41,
   "outputs": [
    {
     "data": {
      "text/plain": "[52]"
     },
     "execution_count": 41,
     "metadata": {},
     "output_type": "execute_result"
    }
   ],
   "source": [
    "top_by_classic"
   ],
   "metadata": {
    "collapsed": false,
    "pycharm": {
     "name": "#%%\n"
    }
   }
  },
  {
   "cell_type": "code",
   "execution_count": 7,
   "outputs": [],
   "source": [
    "dataset = ''\n",
    "#draw_plt_for_measures('human_hair_fast', focus_measures)\n"
   ],
   "metadata": {
    "collapsed": false,
    "pycharm": {
     "name": "#%%\n"
    }
   }
  },
  {
   "cell_type": "code",
   "execution_count": 49,
   "outputs": [
    {
     "name": "stderr",
     "output_type": "stream",
     "text": [
      "D:\\_MEL_Science\\git\\experiments\\objective_functions.py:112: RuntimeWarning: overflow encountered in long_scalars\n",
      "  return sum1 - sum2\n"
     ]
    },
    {
     "name": "stdout",
     "output_type": "stream",
     "text": [
      "[[2.466404914855957, 1.2536468505859375, 4.392256259918213, 0.9434771537780762, 1.9088952541351318]]\n",
      "[[2.466404914855957, 1.2536468505859375, 4.392256259918213, 0.9434771537780762, 1.9088952541351318], [6.786852121353149, 3.28721022605896, 10.147865772247314, 2.4773755073547363, 5.558139324188232]]\n",
      "[[2.466404914855957, 1.2536468505859375, 4.392256259918213, 0.9434771537780762, 1.9088952541351318], [6.786852121353149, 3.28721022605896, 10.147865772247314, 2.4773755073547363, 5.558139324188232], [12.607288837432861, 6.52355694770813, 19.11588430404663, 4.365327835083008, 8.975001811981201]]\n",
      "[[2.466404914855957, 1.2536468505859375, 4.392256259918213, 0.9434771537780762, 1.9088952541351318], [6.786852121353149, 3.28721022605896, 10.147865772247314, 2.4773755073547363, 5.558139324188232], [12.607288837432861, 6.52355694770813, 19.11588430404663, 4.365327835083008, 8.975001811981201], [64.73789381980896, 35.20286965370178, 106.6348648071289, 26.571948051452637, 48.69279932975769]]\n",
      "[[2.466404914855957, 1.2536468505859375, 4.392256259918213, 0.9434771537780762, 1.9088952541351318], [6.786852121353149, 3.28721022605896, 10.147865772247314, 2.4773755073547363, 5.558139324188232], [12.607288837432861, 6.52355694770813, 19.11588430404663, 4.365327835083008, 8.975001811981201], [64.73789381980896, 35.20286965370178, 106.6348648071289, 26.571948051452637, 48.69279932975769], [82.30591893196106, 41.8461058139801, 132.32018399238586, 31.74212384223938, 64.04075884819031]]\n",
      "[[2.466404914855957, 1.2536468505859375, 4.392256259918213, 0.9434771537780762, 1.9088952541351318], [6.786852121353149, 3.28721022605896, 10.147865772247314, 2.4773755073547363, 5.558139324188232], [12.607288837432861, 6.52355694770813, 19.11588430404663, 4.365327835083008, 8.975001811981201], [64.73789381980896, 35.20286965370178, 106.6348648071289, 26.571948051452637, 48.69279932975769], [82.30591893196106, 41.8461058139801, 132.32018399238586, 31.74212384223938, 64.04075884819031], [172.30327153205872, 88.53426480293274, 284.18311190605164, 66.26281762123108, 132.02397561073303]]\n",
      "[[2.466404914855957, 1.2536468505859375, 4.392256259918213, 0.9434771537780762, 1.9088952541351318], [6.786852121353149, 3.28721022605896, 10.147865772247314, 2.4773755073547363, 5.558139324188232], [12.607288837432861, 6.52355694770813, 19.11588430404663, 4.365327835083008, 8.975001811981201], [64.73789381980896, 35.20286965370178, 106.6348648071289, 26.571948051452637, 48.69279932975769], [82.30591893196106, 41.8461058139801, 132.32018399238586, 31.74212384223938, 64.04075884819031], [172.30327153205872, 88.53426480293274, 284.18311190605164, 66.26281762123108, 132.02397561073303], [83.1696093082428, 42.625022888183594, 118.4213514328003, 32.03134751319885, 59.465991497039795]]\n",
      "[[2.466404914855957, 1.2536468505859375, 4.392256259918213, 0.9434771537780762, 1.9088952541351318], [6.786852121353149, 3.28721022605896, 10.147865772247314, 2.4773755073547363, 5.558139324188232], [12.607288837432861, 6.52355694770813, 19.11588430404663, 4.365327835083008, 8.975001811981201], [64.73789381980896, 35.20286965370178, 106.6348648071289, 26.571948051452637, 48.69279932975769], [82.30591893196106, 41.8461058139801, 132.32018399238586, 31.74212384223938, 64.04075884819031], [172.30327153205872, 88.53426480293274, 284.18311190605164, 66.26281762123108, 132.02397561073303], [83.1696093082428, 42.625022888183594, 118.4213514328003, 32.03134751319885, 59.465991497039795], [170.36345839500427, 81.93092203140259, 268.6695935726166, 63.54109501838684, 125.8444995880127]]\n",
      "[[2.466404914855957, 1.2536468505859375, 4.392256259918213, 0.9434771537780762, 1.9088952541351318], [6.786852121353149, 3.28721022605896, 10.147865772247314, 2.4773755073547363, 5.558139324188232], [12.607288837432861, 6.52355694770813, 19.11588430404663, 4.365327835083008, 8.975001811981201], [64.73789381980896, 35.20286965370178, 106.6348648071289, 26.571948051452637, 48.69279932975769], [82.30591893196106, 41.8461058139801, 132.32018399238586, 31.74212384223938, 64.04075884819031], [172.30327153205872, 88.53426480293274, 284.18311190605164, 66.26281762123108, 132.02397561073303], [83.1696093082428, 42.625022888183594, 118.4213514328003, 32.03134751319885, 59.465991497039795], [170.36345839500427, 81.93092203140259, 268.6695935726166, 63.54109501838684, 125.8444995880127], [1.6765170097351074, 0.8916158676147461, 2.559157133102417, 0.6761918067932129, 1.2825706005096436]]\n",
      "[[2.466404914855957, 1.2536468505859375, 4.392256259918213, 0.9434771537780762, 1.9088952541351318], [6.786852121353149, 3.28721022605896, 10.147865772247314, 2.4773755073547363, 5.558139324188232], [12.607288837432861, 6.52355694770813, 19.11588430404663, 4.365327835083008, 8.975001811981201], [64.73789381980896, 35.20286965370178, 106.6348648071289, 26.571948051452637, 48.69279932975769], [82.30591893196106, 41.8461058139801, 132.32018399238586, 31.74212384223938, 64.04075884819031], [172.30327153205872, 88.53426480293274, 284.18311190605164, 66.26281762123108, 132.02397561073303], [83.1696093082428, 42.625022888183594, 118.4213514328003, 32.03134751319885, 59.465991497039795], [170.36345839500427, 81.93092203140259, 268.6695935726166, 63.54109501838684, 125.8444995880127], [1.6765170097351074, 0.8916158676147461, 2.559157133102417, 0.6761918067932129, 1.2825706005096436], [5.85933256149292, 3.1525702476501465, 9.224334716796875, 2.373652696609497, 4.3802876472473145]]\n",
      "[[2.466404914855957, 1.2536468505859375, 4.392256259918213, 0.9434771537780762, 1.9088952541351318], [6.786852121353149, 3.28721022605896, 10.147865772247314, 2.4773755073547363, 5.558139324188232], [12.607288837432861, 6.52355694770813, 19.11588430404663, 4.365327835083008, 8.975001811981201], [64.73789381980896, 35.20286965370178, 106.6348648071289, 26.571948051452637, 48.69279932975769], [82.30591893196106, 41.8461058139801, 132.32018399238586, 31.74212384223938, 64.04075884819031], [172.30327153205872, 88.53426480293274, 284.18311190605164, 66.26281762123108, 132.02397561073303], [83.1696093082428, 42.625022888183594, 118.4213514328003, 32.03134751319885, 59.465991497039795], [170.36345839500427, 81.93092203140259, 268.6695935726166, 63.54109501838684, 125.8444995880127], [1.6765170097351074, 0.8916158676147461, 2.559157133102417, 0.6761918067932129, 1.2825706005096436], [5.85933256149292, 3.1525702476501465, 9.224334716796875, 2.373652696609497, 4.3802876472473145], [10.202718734741211, 5.489321947097778, 16.05506944656372, 4.134943723678589, 7.590703010559082]]\n",
      "[[2.466404914855957, 1.2536468505859375, 4.392256259918213, 0.9434771537780762, 1.9088952541351318], [6.786852121353149, 3.28721022605896, 10.147865772247314, 2.4773755073547363, 5.558139324188232], [12.607288837432861, 6.52355694770813, 19.11588430404663, 4.365327835083008, 8.975001811981201], [64.73789381980896, 35.20286965370178, 106.6348648071289, 26.571948051452637, 48.69279932975769], [82.30591893196106, 41.8461058139801, 132.32018399238586, 31.74212384223938, 64.04075884819031], [172.30327153205872, 88.53426480293274, 284.18311190605164, 66.26281762123108, 132.02397561073303], [83.1696093082428, 42.625022888183594, 118.4213514328003, 32.03134751319885, 59.465991497039795], [170.36345839500427, 81.93092203140259, 268.6695935726166, 63.54109501838684, 125.8444995880127], [1.6765170097351074, 0.8916158676147461, 2.559157133102417, 0.6761918067932129, 1.2825706005096436], [5.85933256149292, 3.1525702476501465, 9.224334716796875, 2.373652696609497, 4.3802876472473145], [10.202718734741211, 5.489321947097778, 16.05506944656372, 4.134943723678589, 7.590703010559082], [59.881879568099976, 32.13507270812988, 94.20909094810486, 24.103549003601074, 44.19682002067566]]\n",
      "[[2.466404914855957, 1.2536468505859375, 4.392256259918213, 0.9434771537780762, 1.9088952541351318], [6.786852121353149, 3.28721022605896, 10.147865772247314, 2.4773755073547363, 5.558139324188232], [12.607288837432861, 6.52355694770813, 19.11588430404663, 4.365327835083008, 8.975001811981201], [64.73789381980896, 35.20286965370178, 106.6348648071289, 26.571948051452637, 48.69279932975769], [82.30591893196106, 41.8461058139801, 132.32018399238586, 31.74212384223938, 64.04075884819031], [172.30327153205872, 88.53426480293274, 284.18311190605164, 66.26281762123108, 132.02397561073303], [83.1696093082428, 42.625022888183594, 118.4213514328003, 32.03134751319885, 59.465991497039795], [170.36345839500427, 81.93092203140259, 268.6695935726166, 63.54109501838684, 125.8444995880127], [1.6765170097351074, 0.8916158676147461, 2.559157133102417, 0.6761918067932129, 1.2825706005096436], [5.85933256149292, 3.1525702476501465, 9.224334716796875, 2.373652696609497, 4.3802876472473145], [10.202718734741211, 5.489321947097778, 16.05506944656372, 4.134943723678589, 7.590703010559082], [59.881879568099976, 32.13507270812988, 94.20909094810486, 24.103549003601074, 44.19682002067566], [5.833401918411255, 3.1505753993988037, 9.07174277305603, 2.400580883026123, 4.34338641166687]]\n"
     ]
    }
   ],
   "source": [
    "file_names = np.array(os.listdir('datasets/'))\n",
    "mask = [re.match(r'.*\\..*', file_name) is None for file_name in file_names]\n",
    "dataset_directories = file_names[mask]\n",
    "time_results = []\n",
    "for dataset in dataset_directories:\n",
    "    time_results.append(supp.draw_plt_for_measures(dataset, focus_measures))\n",
    "    print(time_results)"
   ],
   "metadata": {
    "collapsed": false,
    "pycharm": {
     "name": "#%%\n"
    }
   }
  },
  {
   "cell_type": "code",
   "execution_count": 36,
   "outputs": [
    {
     "data": {
      "text/plain": "[          0\n 0  2.386616\n 1  1.147931\n 2  3.841728\n 3  0.923529\n 4  1.745333,\n            0\n 0   6.287188\n 1   3.248315\n 2  10.003251\n 3   2.461419\n 4   4.862997]"
     },
     "execution_count": 36,
     "metadata": {},
     "output_type": "execute_result"
    }
   ],
   "source": [
    "time_results"
   ],
   "metadata": {
    "collapsed": false,
    "pycharm": {
     "name": "#%%\n"
    }
   }
  },
  {
   "cell_type": "code",
   "execution_count": 9,
   "outputs": [
    {
     "data": {
      "text/plain": "158"
     },
     "execution_count": 9,
     "metadata": {},
     "output_type": "execute_result"
    }
   ],
   "source": [
    "#img = cv.imread('datasets/bee_wing_fast/frame0.jpg', cv.IMREAD_GRAYSCALE)\n",
    "#img\n",
    "#lapl = cv.Laplacian(img, 3)\n",
    "#np.max(lapl)\n",
    "#np.max(cv.convertScaleAbs(lapl))\n",
    "#of.MLOG(img)"
   ],
   "metadata": {
    "collapsed": false,
    "pycharm": {
     "name": "#%%\n"
    }
   }
  },
  {
   "cell_type": "code",
   "execution_count": 4,
   "outputs": [
    {
     "name": "stderr",
     "output_type": "stream",
     "text": [
      "D:\\_MEL_Science\\git\\experiments\\objective_functions.py:113: RuntimeWarning: overflow encountered in long_scalars\n",
      "  return sum1 - sum2\n"
     ]
    }
   ],
   "source": [
    "# ещё datasets/VIDEOS-CARFULLY-EXTRACT/hd-zip и pro\n",
    "# pro - wmv вместо mp4!\n",
    "path_to_zip_files = 'datasets/VIDEOS-CARFULLY-EXTRACT/zip-files/'\n",
    "for dirpath, dirnames, filenames in os.walk(path_to_zip_files):\n",
    "    if len(filenames) != 0:\n",
    "        videos = list(filter(lambda x: x[-3:] == 'mp4', filenames))\n",
    "        for video in videos:\n",
    "            video_dir = dirpath + '/'\n",
    "            graph_name = dirpath.split('\\\\')[-1] + '_' + video[0:-4]\n",
    "            # graph_name = 'pro_' + dirpath.split('\\\\')[-1] + '_' + video[0:-4]\n",
    "            # graph_name = 'hd_' + video[0:-4]\n",
    "            if (graph_name + '.png') not in os.listdir('results/'):\n",
    "                supp.draw_plt_optimized(video_dir, video, graph_name, focus_measures, generate_tmp_frame_stack=True)"
   ],
   "metadata": {
    "collapsed": false,
    "pycharm": {
     "name": "#%%\n"
    }
   }
  },
  {
   "cell_type": "code",
   "execution_count": 6,
   "outputs": [
    {
     "name": "stderr",
     "output_type": "stream",
     "text": [
      "D:\\_MEL_Science\\git\\experiments\\objective_functions.py:113: RuntimeWarning: overflow encountered in long_scalars\n",
      "  return sum1 - sum2\n"
     ]
    }
   ],
   "source": [
    "# ещё datasets/VIDEOS-CARFULLY-EXTRACT/hd-zip и pro\n",
    "# pro - wmv вместо mp4!\n",
    "path_to_zip_files = 'datasets/VIDEOS-CARFULLY-EXTRACT/hd_zip/1920x1080/'\n",
    "for dirpath, dirnames, filenames in os.walk(path_to_zip_files):\n",
    "    if len(filenames) != 0:\n",
    "        videos = list(filter(lambda x: x[-3:] == 'mp4', filenames))\n",
    "        for video in videos:\n",
    "            video_dir = dirpath + '/'\n",
    "            graph_name = 'hd_' + video[0:-4]\n",
    "            # graph_name = 'pro_' + dirpath.split('\\\\')[-1] + '_' + video[0:-4]\n",
    "            # graph_name = 'hd_' + video[0:-4]\n",
    "            if (graph_name + '.png') not in os.listdir('results/'):\n",
    "                supp.draw_plt_optimized(video_dir, video, graph_name, focus_measures, generate_tmp_frame_stack=True)"
   ],
   "metadata": {
    "collapsed": false,
    "pycharm": {
     "name": "#%%\n"
    }
   }
  },
  {
   "cell_type": "code",
   "execution_count": 39,
   "outputs": [
    {
     "data": {
      "text/plain": "['08.04.2020',\n '10.04.2020',\n '11.04.2020',\n '12.04.2020',\n '4.04.2020',\n '6.04.2020',\n 'drive-download-20201023T081242Z-001.zip',\n 'drive-download-20201023T081242Z-002.zip',\n 'drive-download-20201023T081242Z-003.zip',\n 'drive-download-20201023T081242Z-004.zip',\n 'drive-download-20201023T081242Z-005.zip',\n 'drive-download-20201023T081242Z-006.zip',\n 'drive-download-20201023T081242Z-007.zip',\n 'drive-download-20201023T081242Z-008.zip',\n 'drive-download-20201023T081242Z-009.zip']"
     },
     "execution_count": 39,
     "metadata": {},
     "output_type": "execute_result"
    }
   ],
   "source": [
    "os.listdir(path_to_zip_files)\n"
   ],
   "metadata": {
    "collapsed": false,
    "pycharm": {
     "name": "#%%\n"
    }
   }
  },
  {
   "cell_type": "code",
   "execution_count": 38,
   "outputs": [],
   "source": [
    "from shutil import rmtree\n",
    "rmtree('tmp')"
   ],
   "metadata": {
    "collapsed": false,
    "pycharm": {
     "name": "#%%\n"
    }
   }
  },
  {
   "cell_type": "code",
   "execution_count": 4,
   "outputs": [
    {
     "name": "stdout",
     "output_type": "stream",
     "text": [
      "bee_wing_fast\n",
      "bee_wing_medium\n",
      "bee_wing_slow\n",
      "bee_wing_super_slow\n",
      "hd_bee_wing\n",
      "hd_bee_wing(super slow)\n",
      "hd_human_hair\n",
      "hd_human_hair(super slow)\n",
      "human_hair_fast\n",
      "human_hair_medium\n",
      "human_hair_slow\n",
      "human_hair_super_slow\n",
      "pro_leaf_green\n",
      "VIDEOS-CARFULLY-EXTRACT\n"
     ]
    }
   ],
   "source": [
    "'datasets/VIDEOS-CARFULLY-EXTRACT/zip-files/08.04.2020/Bee Worker Leg-Composite/fast.mp4'.split('/', 1)"
   ],
   "metadata": {
    "collapsed": false,
    "pycharm": {
     "name": "#%%\n"
    }
   }
  },
  {
   "cell_type": "code",
   "execution_count": 7,
   "outputs": [
    {
     "name": "stderr",
     "output_type": "stream",
     "text": [
      "D:\\_MEL_Science\\git\\experiments\\objective_functions.py:113: RuntimeWarning: overflow encountered in long_scalars\n",
      "  return sum1 - sum2\n"
     ]
    },
    {
     "data": {
      "text/plain": "[1.2586345672607422, 0.4946780204772949, 2.243001937866211, 0.9155514240264893]"
     },
     "execution_count": 7,
     "metadata": {},
     "output_type": "execute_result"
    }
   ],
   "source": [
    "path_to_file = 'datasets/спирогира.mp4'\n",
    "\n",
    "video_dir = 'datasets/'\n",
    "# graph_name = 'pro_' + dirpath.split('\\\\')[-1] + '_' + video[0:-4]\n",
    "graph_name = 'test_спирогира'\n",
    "\n",
    "supp.draw_plt_for_measures(video_dir, 'спирогира.mp4', graph_name, focus_measures, generate_tmp_frame_stack=True)"
   ],
   "metadata": {
    "collapsed": false,
    "pycharm": {
     "name": "#%%\n"
    }
   }
  },
  {
   "cell_type": "code",
   "execution_count": 6,
   "outputs": [
    {
     "name": "stdout",
     "output_type": "stream",
     "text": [
      "Butterfly Wings Ocales 160x120 fast\n",
      "Butterfly Wings Ocales 160x120 medium\n",
      "Butterfly Wings Ocales 320x240 fast\n",
      "Butterfly Wings Ocales 320x240 medium\n",
      "Butterfly Wings Ocales 640x480 fast\n",
      "Butterfly Wings Ocales 640x480 medium\n",
      "Housefly Compound Eye 160x120 fast\n",
      "Housefly Compound Eye 160x120 medium\n",
      "Housefly Compound Eye 320x240 fast\n",
      "Housefly Compound Eye 320x240 medium\n",
      "Housefly Compound Eye 640x480 fast\n",
      "Housefly Compound Eye 640x480 medium\n",
      "Mutation of drosophila - wingless form 160x120 fast\n",
      "Mutation of drosophila - wingless form 160x120 medium\n",
      "Mutation of drosophila - wingless form 320x240 fast\n",
      "Mutation of drosophila - wingless form 320x240 medium\n",
      "Mutation of drosophila - wingless form 640x480 fast\n",
      "Mutation of drosophila - wingless form 640x480 medium\n"
     ]
    }
   ],
   "source": [
    "import json\n",
    "with open('datasets/12_11_voll.txt', 'r') as res:\n",
    "    all_res = json.loads(res.readline())\n",
    "# calculate focus maps for all videos:\n",
    "path_to_zip_files = 'datasets/VIDEOS-CARFULLY-EXTRACT/'\n",
    "for dirpath, dirnames, filenames in os.walk(path_to_zip_files):\n",
    "    if len(filenames) != 0:\n",
    "        videos = list(filter(lambda x: (x[-3:] == 'mp4' or x[-3:] == 'wmv'), filenames))\n",
    "        for video in videos:\n",
    "            video_dir = dirpath + '/'\n",
    "            video_name = video[0:-4]\n",
    "            if video_name == 'slow' or video_name == 'super_slow':\n",
    "                continue\n",
    "            if video_name == 'fast' or video_name == 'medium':\n",
    "                video_name = dirpath.split('\\\\')[-1] + ' ' + video_name\n",
    "                if video_name in all_res:\n",
    "                    continue\n",
    "                all_res[video_name] = []\n",
    "            elif video[-3:] == 'wmv':\n",
    "                video_name = 'pro_' + video_name\n",
    "                if video_name in all_res:\n",
    "                    continue\n",
    "                all_res[video_name] = []\n",
    "            else:\n",
    "                video_name = 'hd_' + video_name\n",
    "                if video_name in all_res:\n",
    "                    continue\n",
    "                all_res[video_name] = []\n",
    "            print(video_name)\n",
    "\n",
    "            stack = supp.get_frames_as_array(video_dir + video)\n",
    "            all_res[video_name] = supp.get_focus_results_from_array(stack, measure='VOLL4', to_grayscale=True)"
   ],
   "metadata": {
    "collapsed": false,
    "pycharm": {
     "name": "#%%\n"
    }
   }
  },
  {
   "cell_type": "code",
   "execution_count": 7,
   "outputs": [],
   "source": [
    "import json\n",
    "import codecs\n",
    "def convert(o):\n",
    "    if isinstance(o, np.int32): return int(o)\n",
    "    raise TypeError\n",
    "\n",
    "with codecs.open('datasets/focus_stack_results_voll.txt', 'w', encoding='utf-8') as results:\n",
    "    results.writelines(json.dumps(all_res, default=convert))"
   ],
   "metadata": {
    "collapsed": false,
    "pycharm": {
     "name": "#%%\n"
    }
   }
  },
  {
   "cell_type": "code",
   "execution_count": 17,
   "outputs": [
    {
     "data": {
      "text/plain": "numpy.int32"
     },
     "execution_count": 17,
     "metadata": {},
     "output_type": "execute_result"
    }
   ],
   "source": [
    "type(all_res['bee_wing_fast'][0])\n",
    "\n",
    "\n",
    "\n"
   ],
   "metadata": {
    "collapsed": false,
    "pycharm": {
     "name": "#%%\n"
    }
   }
  },
  {
   "cell_type": "code",
   "execution_count": 7,
   "outputs": [
    {
     "name": "stderr",
     "output_type": "stream",
     "text": [
      "D:\\_MEL_Science\\git\\experiments\\objective_functions.py:113: RuntimeWarning: overflow encountered in long_scalars\n",
      "  return sum1 - sum2\n",
      "D:\\_MEL_Science\\git\\experiments\\objective_functions.py:113: RuntimeWarning: overflow encountered in long_scalars\n",
      "  return sum1 - sum2\n",
      "D:\\_MEL_Science\\git\\experiments\\objective_functions.py:113: RuntimeWarning: overflow encountered in long_scalars\n",
      "  return sum1 - sum2\n",
      "D:\\_MEL_Science\\git\\experiments\\objective_functions.py:113: RuntimeWarning: overflow encountered in long_scalars\n",
      "  return sum1 - sum2\n"
     ]
    }
   ],
   "source": [
    "# ещё datasets/VIDEOS-CARFULLY-EXTRACT/hd-zip и pro\n",
    "# pro - wmv вместо mp4!\n",
    "path_to_zip_files = 'datasets/VIDEOS-CARFULLY-EXTRACT/10.12.2020/'\n",
    "for dirpath, dirnames, filenames in os.walk(path_to_zip_files):\n",
    "    if len(filenames) != 0:\n",
    "        videos = list(filter(lambda x: x[-3:] == 'mp4', filenames))\n",
    "        for video in videos:\n",
    "            video_dir = dirpath + '/'\n",
    "            #graph_name = video[0:-4]\n",
    "            graph_name = dirpath.split('/')[-1] + '_' + video[0:-4]\n",
    "            # graph_name = 'hd_' + video[0:-4]\n",
    "            #if (graph_name + '.png') not in os.listdir('results/'):\n",
    "            supp.find_peak_v4_mirror(path_to_video=video_dir+video, output_plot_name=graph_name, filter_window=5, focus_measure='VOLL4')"
   ],
   "metadata": {
    "collapsed": false,
    "pycharm": {
     "name": "#%%\n"
    }
   }
  },
  {
   "cell_type": "code",
   "execution_count": 2,
   "outputs": [],
   "source": [
    "supp.extract_frames('datasets/VIDEOS-CARFULLY-EXTRACT/Image from iOS.MOV', 'datasets/12.11_FULL/')"
   ],
   "metadata": {
    "collapsed": false,
    "pycharm": {
     "name": "#%%\n"
    }
   }
  },
  {
   "cell_type": "code",
   "execution_count": 4,
   "outputs": [
    {
     "name": "stdout",
     "output_type": "stream",
     "text": [
      "Ascaris female 160x120_fast\n",
      "Ascaris female 1920x1080_super_slow\n",
      "Ascaris female 640x480_fast\n",
      "Butterfly mouth parts 160x120_fast\n",
      "Butterfly mouth parts 1920x1080_super_slow\n",
      "Butterfly mouth parts 640x480_fast\n",
      "Butterfly scales 160x120_fast\n",
      "Butterfly scales 1920x1080_super_slow\n",
      "Butterfly scales 640x480_fast\n",
      "Earthworm 160x120_fast\n",
      "Earthworm 1920x1080_super_slow\n",
      "Earthworm 640x480_fast\n",
      "Fowl feather 160x120_fast\n",
      "Fowl feather 1920x1080_super_slow\n",
      "Fowl feather 640x480_fast\n",
      "Goldfish scale 160x120_fast\n",
      "Goldfish scale 1920x1080_super_slow\n",
      "Goldfish scale 640x480_fast\n",
      "Honeybee leg 160x120_fast\n",
      "Honeybee leg 1920x1080_super_slow\n",
      "Honeybee leg 640x480_fast\n",
      "Hydra c.s 160x120_fast\n",
      "Hydra c.s 1920x1080_super_slow\n",
      "Hydra c.s 640x480_fast\n",
      "Hydra l.s 160x120_fast\n",
      "Hydra l.s 1920x1080_super_slow\n",
      "Hydra l.s 640x480_fast\n",
      "Locust mouth parts 160x120_fast\n",
      "Locust mouth parts 1920x1080_super_slow\n",
      "Locust mouth parts 640x480_fast\n",
      "Артерия 160x120_fast\n",
      "Артерия 1920x1080_super_slow\n",
      "Артерия 640x480_fast\n",
      "Гладкие мышцы 160x120_fast\n",
      "Гладкие мышцы 1920x1080_super_slow\n",
      "Гладкие мышцы 640x480_fast\n",
      "Кровь лягушки 160x120_fast\n",
      "Кровь лягушки 1920x1080_super_slow\n",
      "Кровь лягушки 640x480_fast\n",
      "Кровь человека 160x120_fast\n",
      "Кровь человека 1920x1080_super_slow\n",
      "Кровь человека 640x480_fast\n",
      "Легкие 160x120_fast\n",
      "Легкие 1920x1080_super_slow\n",
      "Легкие 640x480_fast\n",
      "Лимфатический узел 160x120_fast\n",
      "Лимфатический узел 1920x1080_super_slow\n",
      "Лимфатический узел 640x480_fast\n",
      "Мерцательный эпителий 160x120_fast\n",
      "Мерцательный эпителий 1920x1080_super_slow\n",
      "Мерцательный эпителий 640x480_fast\n",
      "Митоз в клетках кончика корешка лука 160x120_fast\n",
      "Митоз в клетках кончика корешка лука 1920x1080_super_slow\n",
      "Митоз в клетках кончика корешка лука 640x480_fast\n",
      "Поперечный разрез листа 160x120_fast\n",
      "Поперечный разрез листа 1920x1080_super_slow\n",
      "Поперечный разрез листа 640x480_fast\n",
      "Пыльник лилии 160x120_fast\n",
      "Пыльник лилии 1920x1080_super_slow\n",
      "Пыльник лилии 640x480_fast\n",
      "Пыльца лилии 160x120_fast\n",
      "Пыльца лилии 1920x1080_super_slow\n",
      "Пыльца лилии 640x480_fast\n",
      "Пыльца сосны 160x120_fast\n",
      "Пыльца сосны 1920x1080_super_slow\n",
      "Пыльца сосны 640x480_fast\n",
      "Сердечная мышца 160x120_fast\n",
      "Сердечная мышца 1920x1080_super_slow\n",
      "Сердечная мышца 640x480_fast\n",
      "Сперма человека 160x120_fast\n",
      "Сперма человека 1920x1080_super_slow\n",
      "Сперма человека 640x480_fast\n",
      "Стебель кукурузы 160x120_fast\n",
      "Стебель кукурузы 1920x1080_super_slow\n",
      "Стебель кукурузы 640x480_fast\n",
      "Стебель подсолнечника 160x120_fast\n",
      "Стебель подсолнечника 1920x1080_super_slow\n",
      "Стебель подсолнечника 640x480_fast\n",
      "Стебель сосны 160x120_fast\n",
      "Стебель сосны 1920x1080_super_slow\n",
      "Стебель сосны 640x480_fast\n",
      "Хвоя сосны 160x120_fast\n",
      "Хвоя сосны 1920x1080_super_slow\n",
      "Хвоя сосны 640x480_fast\n",
      "Эпидермис репчатого лука 160x120_fast\n",
      "Эпидермис репчатого лука 1920x1080_super_slow\n",
      "Эпидермис репчатого лука 640x480_fast\n",
      "Язык 160x120_fast\n",
      "Язык 1920x1080_super_slow\n",
      "Язык 640x480_fast\n"
     ]
    },
    {
     "name": "stderr",
     "output_type": "stream",
     "text": [
      "D:\\_MEL_Science\\git\\experiments\\objective_functions.py:113: RuntimeWarning: overflow encountered in long_scalars\n",
      "  return sum1 - sum2\n"
     ]
    }
   ],
   "source": [
    "import json\n",
    "#with open('datasets/12_11_voll.txt', 'r') as res:\n",
    "#    all_res = json.loads(res.readline())\n",
    "all_res = {}\n",
    "# calculate focus maps for all videos:\n",
    "path_to_zip_files = 'datasets/VIDEOS-CARFULLY-EXTRACT/10.12.2020/'\n",
    "for dirpath, dirnames, filenames in os.walk(path_to_zip_files):\n",
    "    if len(filenames) != 0:\n",
    "        videos = list(filter(lambda x: (x[-3:] == 'mp4' or x[-3:] == 'wmv'), filenames))\n",
    "        for video in videos:\n",
    "            video_dir = dirpath + '/'\n",
    "            video_name = video[0:-4]\n",
    "\n",
    "            video_name = dirpath.split('/')[-1] + ' ' + video_name\n",
    "            if video_name in all_res:\n",
    "                continue\n",
    "            all_res[video_name] = []\n",
    "\n",
    "            print(video_name)\n",
    "\n",
    "            stack = supp.get_frames_as_array(video_dir + video)\n",
    "            all_res[video_name] = supp.get_focus_results_from_array(stack, measure='VOLL4', to_grayscale=True)"
   ],
   "metadata": {
    "collapsed": false,
    "pycharm": {
     "name": "#%%\n"
    }
   }
  },
  {
   "cell_type": "code",
   "execution_count": 5,
   "outputs": [],
   "source": [
    "import json\n",
    "import codecs\n",
    "def convert(o):\n",
    "    if isinstance(o, np.int32): return int(o)\n",
    "    raise TypeError\n",
    "\n",
    "with codecs.open('datasets/12_11_voll.txt', 'w', encoding='utf-8') as results:\n",
    "    results.writelines(json.dumps(all_res, default=convert))\n"
   ],
   "metadata": {
    "collapsed": false,
    "pycharm": {
     "name": "#%%\n"
    }
   }
  },
  {
   "cell_type": "code",
   "execution_count": 11,
   "outputs": [],
   "source": [
    "# 2020.12.21\n",
    "\n",
    "path_to_file = 'datasets/VIDEOS-CARFULLY-EXTRACT/10.12.2020/Butterfly scales/160x120_fast.mp4'\n",
    "\n",
    "#supp.find_peak_v4_mirror(output_plot_name=None, path_to_video=path_to_file, focus_measure='VOLL4', filter_window=5)"
   ],
   "metadata": {
    "collapsed": false,
    "pycharm": {
     "name": "#%%\n"
    }
   }
  },
  {
   "cell_type": "code",
   "execution_count": 58,
   "outputs": [],
   "source": [
    "import json\n",
    "import matplotlib.pyplot as plt\n",
    "\n",
    "def show_graphs(dataset_name):\n",
    "    with open('datasets/12_11_voll.txt', 'r') as res:\n",
    "        focus_measurements = json.loads(res.readline())\n",
    "\n",
    "\n",
    "    fm1 = focus_measurements[f'{dataset_name} 160x120_fast']\n",
    "    fm2 = focus_measurements[f'{dataset_name} 640x480_fast']\n",
    "    fm3 = focus_measurements[f'{dataset_name} 1920x1080_super_slow']\n",
    "\n",
    "    voll_segment = supp.find_peak_v4_mirror(output_plot_name=None, z_stack_measures=fm1, focus_measure='VOLL4', filter_window=5)\n",
    "    voll_segment_relative_values = np.array(voll_segment) / len(fm1)\n",
    "    print(voll_segment_relative_values)\n",
    "\n",
    "    voll_segment = supp.find_peak_v4_mirror(output_plot_name=None, z_stack_measures=fm2, focus_measure='VOLL4', filter_window=5)\n",
    "    voll_segment_relative_values = np.array(voll_segment) / len(fm2)\n",
    "    print(voll_segment_relative_values)\n",
    "\n",
    "    voll_segment = supp.find_peak_v4_mirror(output_plot_name=None, z_stack_measures=fm3, focus_measure='VOLL4', filter_window=5)\n",
    "    voll_segment_relative_values = np.array(voll_segment) / len(fm3)\n",
    "    print(voll_segment_relative_values)\n",
    "\n",
    "    point_start = 800\n",
    "    plt.plot(fm3[point_start:1000])\n",
    "    point_teng = 920\n",
    "    plt.plot(point_teng-point_start, fm3[point_teng], 'o')\n",
    "    point_voll = 886\n",
    "    plt.plot(point_voll-point_start, fm3[point_voll], 'o')\n",
    "\n",
    "    path_to_file = f'datasets/VIDEOS-CARFULLY-EXTRACT/10.12.2020/{dataset_name}/1920x1080_super_slow.mp4'\n",
    "    supp.show_specific_frame(path_to_file, frame_index=838)"
   ],
   "metadata": {
    "collapsed": false,
    "pycharm": {
     "name": "#%%\n"
    }
   }
  },
  {
   "cell_type": "code",
   "execution_count": 68,
   "outputs": [
    {
     "data": {
      "text/plain": "<Figure size 432x288 with 1 Axes>",
      "image/png": "[encoded data removed]"
     },
     "metadata": {
      "needs_background": "light"
     },
     "output_type": "display_data"
    },
    {
     "name": "stdout",
     "output_type": "stream",
     "text": [
      "[0.82432432 0.95945946]\n",
      "[0.75 0.85]\n",
      "[0.9284995  0.94864048]\n"
     ]
    },
    {
     "data": {
      "text/plain": "<Figure size 432x288 with 1 Axes>",
      "image/png": "[encoded data removed]"
     },
     "metadata": {
      "needs_background": "light"
     },
     "output_type": "display_data"
    },
    {
     "data": {
      "text/plain": "<Figure size 432x288 with 1 Axes>",
      "image/png": "[encoded data removed]"
     },
     "metadata": {
      "needs_background": "light"
     },
     "output_type": "display_data"
    },
    {
     "data": {
      "text/plain": "<Figure size 432x288 with 1 Axes>",
      "image/png": "[encoded data removed]"
     },
     "metadata": {
      "needs_background": "light"
     },
     "output_type": "display_data"
    }
   ],
   "source": [
    "show_graphs('Эпидермис репчатого лука')\n"
   ],
   "metadata": {
    "collapsed": false,
    "pycharm": {
     "name": "#%%\n"
    }
   }
  },
  {
   "cell_type": "code",
   "execution_count": 71,
   "outputs": [],
   "source": [
    "def show_graphs_video(dataset_name):\n",
    "    fm1_frames = supp.get_frames_as_array(f'datasets/VIDEOS-CARFULLY-EXTRACT/10.12.2020/{dataset_name}/160x120_fast.mp4',)\n",
    "    fm1 = supp.get_focus_results_from_array(fm1_frames, measure='VOLL4', to_grayscale=True)\n",
    "    fm2_frames = supp.get_frames_as_array(f'datasets/VIDEOS-CARFULLY-EXTRACT/10.12.2020/{dataset_name}/640x480_fast.mp4',)\n",
    "    fm2 = supp.get_focus_results_from_array(fm2_frames, measure='VOLL4', to_grayscale=True)\n",
    "    fm3_frames = supp.get_frames_as_array(f'datasets/VIDEOS-CARFULLY-EXTRACT/10.12.2020/{dataset_name}/1920x1080_super_slow.mp4',)\n",
    "    fm3 = supp.get_focus_results_from_array(fm3_frames, measure='VOLL4', to_grayscale=True)\n",
    "\n",
    "    voll_segment = supp.find_peak_v4_mirror(output_plot_name=None, z_stack_measures=fm1, focus_measure='VOLL4', filter_window=5)\n",
    "    voll_segment_relative_values = np.array(voll_segment) / len(fm1)\n",
    "    print(voll_segment_relative_values)\n",
    "\n",
    "    voll_segment = supp.find_peak_v4_mirror(output_plot_name=None, z_stack_measures=fm2, focus_measure='VOLL4', filter_window=5)\n",
    "    voll_segment_relative_values = np.array(voll_segment) / len(fm2)\n",
    "    print(voll_segment_relative_values)\n",
    "\n",
    "    voll_segment = supp.find_peak_v4_mirror(output_plot_name=None, z_stack_measures=fm3, focus_measure='VOLL4', filter_window=5)\n",
    "    voll_segment_relative_values = np.array(voll_segment) / len(fm3)\n",
    "    print(voll_segment_relative_values)\n",
    "\n",
    "    point_start = 800\n",
    "    plt.plot(fm3[point_start:1000])\n",
    "    point_teng = 920\n",
    "    plt.plot(point_teng-point_start, fm3[point_teng], 'o')\n",
    "    point_voll = 886\n",
    "    plt.plot(point_voll-point_start, fm3[point_voll], 'o')\n",
    "\n",
    "    path_to_file = f'datasets/VIDEOS-CARFULLY-EXTRACT/10.12.2020/{dataset_name}/1920x1080_super_slow.mp4'\n",
    "    supp.show_specific_frame(path_to_file, frame_index=838)"
   ],
   "metadata": {
    "collapsed": false,
    "pycharm": {
     "name": "#%%\n"
    }
   }
  },
  {
   "cell_type": "code",
   "execution_count": 74,
   "outputs": [
    {
     "name": "stderr",
     "output_type": "stream",
     "text": [
      "D:\\_MEL_Science\\git\\experiments\\objective_functions.py:113: RuntimeWarning: overflow encountered in long_scalars\n",
      "  return sum1 - sum2\n"
     ]
    },
    {
     "data": {
      "text/plain": "<Figure size 432x288 with 1 Axes>",
      "image/png": "[encoded data removed]"
     },
     "metadata": {
      "needs_background": "light"
     },
     "output_type": "display_data"
    },
    {
     "name": "stdout",
     "output_type": "stream",
     "text": [
      "[0.73333333 0.86666667]\n",
      "[0.77333333 0.85333333]\n",
      "[0.92331606 0.94818653]\n"
     ]
    },
    {
     "data": {
      "text/plain": "<Figure size 432x288 with 1 Axes>",
      "image/png": "[encoded data removed]"
     },
     "metadata": {
      "needs_background": "light"
     },
     "output_type": "display_data"
    },
    {
     "data": {
      "text/plain": "<Figure size 432x288 with 1 Axes>",
      "image/png": "[encoded data removed]"
     },
     "metadata": {
      "needs_background": "light"
     },
     "output_type": "display_data"
    },
    {
     "data": {
      "text/plain": "<Figure size 432x288 with 1 Axes>",
      "image/png": "[encoded data removed]"
     },
     "metadata": {
      "needs_background": "light"
     },
     "output_type": "display_data"
    }
   ],
   "source": [
    "show_graphs_video('Пыльник лилии')\n"
   ],
   "metadata": {
    "collapsed": false,
    "pycharm": {
     "name": "#%%\n"
    }
   }
  },
  {
   "cell_type": "code",
   "execution_count": 25,
   "outputs": [],
   "source": [
    "#2020.12.23\n",
    "import json\n",
    "import matplotlib.pyplot as plt\n",
    "\n",
    "with open('datasets/12_11_voll.txt', 'r') as res:\n",
    "        focus_measurements = json.loads(res.readline())\n",
    "\n",
    "num_plots = 2\n",
    "i = num_plots\n",
    "for file_name in focus_measurements.keys():\n",
    "    title = file_name.rsplit(' ', maxsplit=1)[0]\n",
    "    label = file_name.rsplit(' ', maxsplit=1)[1]\n",
    "    if label == '640x480_fast':\n",
    "        continue\n",
    "    measure_res = np.array(focus_measurements[file_name]) / np.amax(focus_measurements[file_name])\n",
    "    plt.plot(np.array(range(0, len(measure_res))) / len(measure_res), measure_res, label=label)\n",
    "    if label == '160x120_fast':\n",
    "        found_seg_start, found_seg_end = supp.find_peak_v4_mirror(\n",
    "            z_stack_measures=focus_measurements[file_name], focus_measure='VOLL4',filter_window=5, does_plotting=False\n",
    "        )\n",
    "        #found_seg_start = found_seg_start * len(measure_res)\n",
    "        #found_seg_end = found_seg_end * len(measure_res)\n",
    "        plt.plot(np.array(range(found_seg_start, found_seg_end)) / len(measure_res), measure_res[found_seg_start:found_seg_end])\n",
    "    i -= 1\n",
    "    if i == 0:\n",
    "        plt.legend()\n",
    "        #plt.show()\n",
    "        plt.savefig(f'results_12_23/{title}.png')\n",
    "        plt.close()\n",
    "        i = num_plots"
   ],
   "metadata": {
    "collapsed": false,
    "pycharm": {
     "name": "#%%\n"
    }
   }
  },
  {
   "cell_type": "code",
   "execution_count": 11,
   "outputs": [
    {
     "data": {
      "text/plain": "['aaa', 'bbb', 'ccc']"
     },
     "execution_count": 11,
     "metadata": {},
     "output_type": "execute_result"
    }
   ],
   "source": [
    "my_str = 'aaa bbb ccc'\n",
    "my_str.rsplit(' ', maxsplit=2)"
   ],
   "metadata": {
    "collapsed": false,
    "pycharm": {
     "name": "#%%\n"
    }
   }
  },
  {
   "cell_type": "code",
   "execution_count": null,
   "outputs": [],
   "source": [
    "\n"
   ],
   "metadata": {
    "collapsed": false,
    "pycharm": {
     "name": "#%%\n"
    }
   }
  }
 ],
 "metadata": {
  "kernelspec": {
   "display_name": "Python 3",
   "language": "python",
   "name": "python3"
  },
  "language_info": {
   "codemirror_mode": {
    "name": "ipython",
    "version": 2
   },
   "file_extension": ".py",
   "mimetype": "text/x-python",
   "name": "python",
   "nbconvert_exporter": "python",
   "pygments_lexer": "ipython2",
   "version": "2.7.6"
  }
 },
 "nbformat": 4,
 "nbformat_minor": 0
}